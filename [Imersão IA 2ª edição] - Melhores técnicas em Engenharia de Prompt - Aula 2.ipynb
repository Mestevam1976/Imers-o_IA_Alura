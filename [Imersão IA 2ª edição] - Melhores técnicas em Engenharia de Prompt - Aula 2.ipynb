{
 "cells": [
  {
   "cell_type": "markdown",
   "id": "20474e89",
   "metadata": {},
   "source": [
    "<h1><font color=\"red\">[Imersão IA 2ª ed.] - Melhores técnicas em Engenharia de Prompt - Aula 2</font></h1>"
   ]
  },
  {
   "cell_type": "markdown",
   "id": "e6864784",
   "metadata": {},
   "source": [
    "<h2><font color=\"Blue\">Márcio Estevam da Silva - Analista de Business Intelligence</font></h2>"
   ]
  },
  {
   "cell_type": "markdown",
   "id": "e4f5c6fe",
   "metadata": {},
   "source": [
    "<hr>"
   ]
  },
  {
   "cell_type": "markdown",
   "id": "8dbab3ae",
   "metadata": {},
   "source": [
    "### Desafio 1:\n",
    "\n",
    "<p>Use a técnica de Few-shot Chain-of-Thought;</p>"
   ]
  },
  {
   "cell_type": "markdown",
   "id": "5e7d2d4e",
   "metadata": {},
   "source": [
    "![Lógica:](Imgs/logica.png)"
   ]
  },
  {
   "cell_type": "markdown",
   "id": "57ea865b",
   "metadata": {},
   "source": [
    "![Resposta:](Imgs/resposta_prompt.png)"
   ]
  },
  {
   "cell_type": "markdown",
   "id": "84fb38b7",
   "metadata": {},
   "source": [
    "<hr>"
   ]
  },
  {
   "cell_type": "markdown",
   "id": "e8245bbd",
   "metadata": {},
   "source": [
    "### Desafio 2:"
   ]
  },
  {
   "cell_type": "markdown",
   "id": "49629e85",
   "metadata": {},
   "source": [
    "<p>Escolha 10 textos do seu site de notícias preferido.</p>\n",
    "<p>Apresente para o Google AI Studio o padrão dos títulos e das suas respectivas notícias e quando chegar no décimo primeiro texto, apresente somente a notícia e peça para ele gerar um título. Veja se existe alguma técnica ou padrão;</p>"
   ]
  },
  {
   "cell_type": "markdown",
   "id": "7a8e8d5f",
   "metadata": {},
   "source": [
    "<h3>Texto 1:</h3>\n",
    "<p>A expansão dos negócios é constante na história da JBS. Nos anos 1990, a aquisição da fábrica da Anglo, em Goiânia, representou o início das vendas de carne para o exterior.Outro marco expressivo do crescimento da companhia foi a instalação da sede na cidade de São Paulo, em 2004.</p> \n",
    "<p>A oportunidade surgiu depois da falência do Grupo Bordon, quando a sede da empresa foi a leilão e arrematada pela Friboi.Na mesma época, os Batista compraram a participação na BF, que controlava, no Brasil, as marcas Anglo, Bordon, Hereford, Swift e Sola. As marcas ficaram com a Friboi, que se tornou a maior empresa do país no setor. O passo seguinte foi se estabelecer no exterior. E a compra da Swift Armour da Argentina, em 2005, deu início a essa estratégia, sob a direção de Joesley.</p>\n",
    "\n",
    "<h3>Título 1: </h3>\n",
    "<p><font color=\"blue\">Receita de sucesso: agregar valor e alimentar o mundo</font></p>\n",
    "\n",
    "<hr>\n",
    "\n",
    "<h3>Texto 2:</h3>\n",
    "O governo dos Estados Unidos pode estar tentando proibir ou forçar a venda do TikTok, mas a empresa responsável pelo aplicativo de compartilhamento de vídeos não pretende desistir de reverter a situação. A ByteDance anunciou, nesta terça-feira, 7, que está processando o país da América do Norte e tentando “anular o projeto de lei inconstitucional de proibição do TikTok”.</p>\n",
    "\n",
    "<p>Em um novo processo judicial apresentado na última segunda-feira, 6, o consultor jurídico do aplicativo argumentou que o Congresso tomou “uma medida sem precedentes de destacar e banir expressamente o TikTok”. O processo legal diz que o que governo dos EUA está propondo não é viável e “forçaria o encerramento” do aplicativo nos Estados Unidos até o dia 19 de janeiro de 2025.</p>\n",
    "\n",
    "<h3>Título 2:</h3>\n",
    "<p><font color=\"blue\">TikTok está processando Estados Unidos após país aprovar lei que bane aplicativo</font></p>\n",
    "\n",
    "<hr>\n",
    "\n",
    "<h3>Texto 3:</h3>\n",
    "<p>A Microsoft fechou vários estúdios da Bethesda, incluindo a desenvolvedora de Redfall, Arkane Austin, Tango Gameworks, estúdio responsável por The Evil Within e Hi-Fi Rush e mais cortes devastadores, o IGN confirma.</p>\n",
    "\n",
    "<p>Alpha Dog Games, produtora do jogo para celular Mighty Doom, também será fechada. A Roundhouse Games será absorvida pela ZeniMax Online Studios, desenvolvedora de The Elder Scrolls Online. A Microsoft não informou quantos funcionários perderão seus empregos. IGN pediu comentários à Bethesda e à Microsoft.</p>\n",
    "\n",
    "<p>Em Redfall, o desastroso jogo cooperativo de vampiros agora não receberá as atualizações prometidas, pois a Microsoft encerrou todo o desenvolvimento do jogo. A Microsoft disse que Redfall permanecerá online para jogar e fornecerá uma oferta de “compensação” para aqueles que compraram a versão \"Deluxe\".</p>\n",
    "\n",
    "<h3>Título 3:</h3>\n",
    "<p><font color=\"blue\">Corte devastador: Microsoft fecha estúdios subsidiários da Bethesda responsáveis por Redfall, Hi-Fi Rush e outros games.</font></p>\n",
    "\n",
    "---\n",
    "\n",
    "<h3>Texto 4:</h3>\n",
    "<p>The Last of Us Parte 2 é uma das experiências mais impactantes que já tive com videogames. Por muito tempo após o lançamento do jogo, não quis nem pensar em rejogá-lo dado o impacto emocional que o título teve em mim. Acompanhar a jornada de vingança de Ellie e Abby foi algo estarrecedor, e ver que poderia revisitar essa história, agora no PlayStation 5, com TLOU Parte 2 Remastered me deixou com um pé atrás, porém ao jogar fiquei satisfeito com a experiência que tive e me diverti nos novos modos de jogo, como o roguelike Sem Volta (No Return).</p>\n",
    "\n",
    "<p>Embora possam parecer desnecessárias, as adições feitas na remasterização do segundo game da franquia criada por Neil Druckmann e Bruce Straley são interessantes e divertidas, além de aprofundarem o combate do jogo e trazerem um ponto de vista não apresentado anteriormente com o modo Fases Perdidas (Lost Levels).</p>\n",
    "\n",
    "<h3>Título 4:</h3>\n",
    "<p><font color=\"blue\">The Last of Us Part II Remastered - Review</font></p>\n",
    "\n",
    "---\n",
    "\n",
    "<h3>Texto 5:</h3>\n",
    "\n",
    "<p>Food systems—how we grow, transport, prepare, and dispose of the food we eat—are responsible for roughly one-third of all global greenhouse gas emissions. And those gases are changing the climate, which in turn is disrupting the food supply. It would seem to be a classic vicious circle.</p>\n",
    "\n",
    "<p>To compound the problem, the intertwined fates of food and climate change have taken remarkably long to be recognized: It was only last December that the UN’s Food and Agriculture Organization unveiled its non-binding “food systems roadmap” for bringing the world’s food production in line with global climate goals. Why it took so long for food to be “on the table” at  international conferences about climate change is something that Emile Frison delves into for this special issue of the Bulletin of the Atomic Scientists. In his article “We cannot afford another lost year for food and climate action,” Frison says that part of the problem thus far has been imagery: “When we think of climate change … [w]hat we almost certainly don’t think of is the burger sitting juicy on the dinner plate, the cow in the barn, or the ready-made lasagna steaming fresh from the microwave.”</p>\n",
    "\n",
    "<h3>Título 5:</h3>\n",
    "<p><font color=\"blue\">Introduction: Bringing the world’s food production in line with global climate goals</font></p>\n",
    "\n",
    "<hr>\n",
    "\n",
    "<h3>Texto 6:</h3> \n",
    "\n",
    "<p>As inundações no Rio Grande do Sul tomaram uma proporção nunca antes vista, afetando 388 dos 497 municípios do estado.</p>\n",
    "\n",
    "<p>Especialistas ouvidos pela BBC News Brasil apontam que a causa do problema é complexa e tem como raiz a combinação dos três fatores principais: corrente intensa de vento, corredor de umidade vindo da Amazônia e uma onda de calor na região central do país.</p>\n",
    "\n",
    "<p>Mas, ainda que a ciência atmosférica consiga explicar a catástrofe ambiental, em paralelo, teorias conspiratórias ganham força.</p>\n",
    "\n",
    "<p>Uma, em especial, chegou a despontar nas buscas do Google na última semana e esteve entre os assuntos mais comentados do X, antigo Twitter.</p>\n",
    "\n",
    "<h3>Título 6:</h3>\n",
    "<p><font color=\"blue\">A teoria conspiratória que atribui às antenas Haarp inundações no Rio Grande do Sul</font></p>\n",
    "\n",
    "<hr>\n",
    "\n",
    "<h3>Texto 7:</h3>\n",
    "<p>Um conhecido hacker que era um dos criminosos mais procurados da Europa foi preso por chantagear 33 mil pessoas, ameaçando publicar online as anotações das suas sessões de terapia.</p>\n",
    "\n",
    "<p>A prisão de Julius Kivimäki põe fim a uma onda de crimes cibernéticos de 11 anos, que começou quando ele ganhou notoriedade em uma rede de gangues anarquistas de hackers adolescentes, quando ele tinha apenas 13 anos.</p>\n",
    "\n",
    "<h3>Título 7:</h3>\n",
    "<p><font color=\"blue\">Como hacker adolescente se transformou em um dos criminosos mais procurados da Europa</font></p>\n",
    "\n",
    "<hr>\n",
    "\n",
    "<h3>Texto 8:</h3>\n",
    "<p>A maior fonte antropogênica de metano em todo o mundo é a agricultura, seguida de perto pelos vazamentos dos campos de petróleo e gás. É uma questão importante que afeta o clima do planeta e permanece sem solução.</p>\n",
    "\n",
    "<p>Embora 60% das emissões globais de metano venham da atividade humana, os 40% restantes vêm de fontes naturais, incluindo o permafrost (solo congelado em regiões muito frias) e pântanos. Eles estão descongelando com mais rapidez e ficando cada vez mais alagados, devido ao aumento das temperaturas.</p>\n",
    "\n",
    "<p>O metano é responsável por 20 a 30% do aquecimento sofrido até hoje pelo planeta. E, embora tenha vida mais curta na atmosfera do que o dióxido de carbono (CO2), o impacto do metano no aquecimento global é mais de 80 vezes maior que o do CO2 ao longo de um período de 20 anos.</p>\n",
    "\n",
    "<p>A seguir, conheça algumas das maiores fontes ocultas desse gás altamente poderoso do efeito estufa.</p>\n",
    "\n",
    "<h3>Título 8:</h3>\n",
    "<p><font color=\"blue\">As surpreendentes fontes de gases do efeito estufa</font></p>\n",
    "\n",
    "<hr>\n",
    "\n",
    "<h3>Texto 9:</h3> \n",
    "<p>O filósofo americano Daniel Dennett morreu no último dia 19 de abril, com 82 anos de idade. Ele era uma das mentes mais brilhantes e proféticas do último meio século.</p>\n",
    "\n",
    "<p>Ao longo da vida, ele se atreveu a enfrentar algumas das maiores questões sobre a mente e a consciência humana. Dennett publicou mais de uma dezena de livros e deixou contribuições importantes em campos que variam da ciência cognitiva e da filosofia da mente até a teoria da evolução. Ele era um ardente defensor da racionalidade e do ceticismo.</p>\n",
    "\n",
    "<p>Em dezembro de 2023, conversei com ele por horas sobre o seu livro de memórias, I've Been Thinking (\"Andei pensando\", em tradução livre), e também sobre sua vida e seu trabalho.</p>\n",
    "\n",
    "<p>Ele ainda estava envolvido apaixonadamente nas questões da verdade, cognição e possibilidades da tecnologia que o fascinaram pela primeira vez quando era estudante de doutorado na Universidade de Oxford, no Reino Unido, nos anos 1960. E ainda tinha disposição para embates em defesa do pensamento rigoroso.</p>\n",
    "\n",
    "<h3>Título 9:</h3>\n",
    "<p><font color=\"blue\">Por que nossa civilização 'é mais frágil do que pensávamos'</font></p>\n",
    "\n",
    "<hr>\n",
    "\n",
    "<h3>Texto 10:</h3>\n",
    "<p>O parlamento europeu aprovou na última semana uma lei que obriga companhias de todos os setores da economia que fazem negócios com a União Europeia a verificação de suas cadeias de valor.</p>\n",
    "\n",
    "<p>Chamada de Diretiva de Due Diligence de Sustentabilidade Corporativa e batizada com a sigla CS3D (em alusão ao acrônimo CSDDD), a lei engloba desde a extração da matéria-prima à distribuição, venda e marketing do produto ou serviço final, e implica na necessidade de adoção de indicadores ambientais, sociais e de governança (ESG), sobretudo no que diz respeito a violações de direitos humanos e do meio ambiente.</p>\n",
    "\n",
    "<p>As empresas que tiverem mais de mil funcionários e faturamento global acima de 450 milhões de euros precisarão auditar suas fornecedoras, por exemplo, sobre prática de desmatamento ilegal e implicações sobre perda de biodiversidade, trabalho análogo à escravidão e trabalho infantil. A previsão de especialistas é de que a lei tenha um efeito cascata – das grandes empresas às pequenas, com um potencial de transformação difícil de calcular.</p>\n",
    "\n",
    "<h3>Título 10:</h3>\n",
    "<p><font color=\"blue\">União Europeia aprova mais uma lei ESG que impacta exportações brasileiras.</font></p>\n",
    "\n",
    "<hr>\n",
    "\n",
    "<h3>Texto 11:</h3> \n",
    "<p>O novo Marco Legal dos Games faz o Brasil “passar de fase”? Após ter sido aprovado pelo Senado Federal e pela Câmara dos Deputados, o projeto de lei 2796/202, que regula o setor de jogos eletrônicos no país, segue para sua etapa final: a sanção presidencial e a publicação em lei. Certamente, você já viu a indústria de games comemorar o resultado do texto atual, e possivelmente final, mas o Marco Legal vai além do simples reconhecimento do setor no país.  Mas, afinal, o que isso muda?</p>\n",
    "\n",
    "<p>Vale ressaltar que essa ação acontece duas décadas após a fundação da Associação Brasileira das Desenvolvedoras de Jogos Digitais (AbraGames) e o lançamento do primeiro fundo público para jogos pelo Ministério da Cultura, sob o comando de Gilberto Gil. Agora, vivemos um novo momento no setor de jogos eletrônicos do Brasil, que possibilita um cenário de novas oportunidades que perpassam desde a economia, a cultura, a educação até o reposicionamento do país em âmbito mundial, em um mercado que cresce em alta velocidade, movimentando 200 bilhões de dólares globalmente.</p>\n",
    "\n",
    "<h3>Título 11:</h3>\n",
    "<p><font color=\"blue\">????</font></p>"
   ]
  },
  {
   "cell_type": "markdown",
   "id": "dc45da31",
   "metadata": {},
   "source": [
    "<hr>"
   ]
  },
  {
   "cell_type": "markdown",
   "id": "edae379f",
   "metadata": {},
   "source": [
    "![Textos e Títulos:](Imgs/Textos_titulos.png)"
   ]
  },
  {
   "cell_type": "markdown",
   "id": "e23b75e5",
   "metadata": {},
   "source": [
    "<h2><font color=\"red\">Análise dos Títulos dos Textos</font></h2>\n",
    "<h3>Aqui está uma análise de cada título, considerando o texto que ele representa:</h3><br>\n",
    "<li><b>Texto 1:</b> \"Receita de sucesso: agregar valor e alimentar o mundo\"</li>\n",
    "<li><font color=\"blue\"><b>Análise:</b> O título resume bem a trajetória de crescimento da JBS, destacando a estratégia de aquisições e expansão para se tornar uma gigante do setor alimentício. O uso da palavra \"alimentar\" conecta a empresa com sua missão de fornecer alimentos para o mundo.</font></li><br>\n",
    "<li><b>Texto 2:</b> \"TikTok está processando Estados Unidos após país aprovar lei que bane aplicativo\"</li>\n",
    "<li><font color=\"blue\"><b>Análise:</b> O título é direto e informativo, descrevendo claramente o evento principal do texto: a ação legal do TikTok contra a proibição imposta pelos EUA.</font></li><br>\n",
    "<li><b>Texto 3:</b> \"Corte devastador: Microsoft fecha estúdios subsidiários da Bethesda responsáveis por Redfall, Hi-Fi Rush e outros games\"</li>\n",
    "<li><font color=\"blue\"><b>Análise:</b> O título é impactante e usa a palavra \"devastador\" para enfatizar a gravidade do fechamento dos estúdios e o impacto na indústria de jogos. A menção de jogos populares como Redfall e Hi-Fi Rush atrai a atenção do público.</font></li><br>\n",
    "<li><b>Texto 4:</b> \"The Last of Us Part II Remastered - Review\"</li>\n",
    "<li><font color=\"blue\"><b>Análise:</b> O título é simples e direto, identificando o jogo que está sendo analisado e o tipo de conteúdo (uma revisão).</font></li><br>\n",
    "<li><b>Texto 5:</b> \"Introduction: Bringing the world’s food production in line with global climate goals\"</li>\n",
    "<li><font color=\"blue\"><b>Análise:</b> O título indica que o texto é uma introdução a um tópico mais amplo, que é a relação entre a produção de alimentos e as mudanças climáticas. A frase \"Bringing the world’s food production in line with global climate goals\" define o objetivo central do texto.</font></li><br>\n",
    "<li><b>Texto 6:</b> \"A teoria conspiratória que atribui às antenas Haarp inundações no Rio Grande do Sul\"</li>\n",
    "<li><font color=\"blue\"><b>Análise:</b> O título desperta a curiosidade ao mencionar uma teoria da conspiração e sua ligação com as inundações no Rio Grande do Sul.</font></li><br>\n",
    "<li><b>Texto 7:</b> \"Como hacker adolescente se transformou em um dos criminosos mais procurados da Europa\"</li>\n",
    "<li><font color=\"blue\"><b>Análise:</b> O título é intrigante e narra a trajetória do hacker, desde a adolescência até se tornar um criminoso procurado.</font></li><br>\n",
    "<li><b>Texto 8:</b> \"As surpreendentes fontes de gases do efeito estufa\"</li>\n",
    "<li><font color=\"blue\"><b>Análise:</b> O título cria expectativa ao sugerir que o texto irá revelar fontes inesperadas de gases do efeito estufa, despertando o interesse do leitor.</font></li><br>\n",
    "<li><b>Texto 9:</b> \"Por que nossa civilização 'é mais frágil do que pensávamos'\"</li>\n",
    "<li><font color=\"blue\"><b>Análise:</b> O título é provocativo e cita uma frase do filósofo Daniel Dennett para sugerir que a civilização humana é vulnerável.</font></li><br>\n",
    "<li><b>Texto 10:</b> \"União Europeia aprova mais uma lei ESG que impacta exportações brasileiras\"</li>\n",
    "<li><font color=\"blue\"><b>Análise:</b> O título é informativo e indica que a União Europeia aprovou uma nova lei relacionada a questões ambientais, sociais e de governança (ESG), com impacto nas exportações brasileiras.</font></li><br>\n",
    "<div class=\"alert alert-danger\">\n",
    "\n",
    "**Título Gerado**\n",
    "\n",
    "<li><b>Texto 11:</b> \"O novo Marco Legal dos Games faz o Brasil “passar de fase”?\"</li>\n",
    "<li><font color=\"blue\"><b>Análise:</b> O título usa uma linguagem figurativa (\"passar de fase\") para discutir o impacto do novo Marco Legal dos Games no Brasil. A pergunta no final do título incentiva a reflexão sobre o tema.</font></li>\n",
    "\n",
    "</div>\n",
    "\n"
   ]
  },
  {
   "cell_type": "code",
   "execution_count": 1,
   "id": "96e6b0ff",
   "metadata": {},
   "outputs": [
    {
     "data": {
      "text/plain": [
       "'/media/marcio-estevam/0064E21564E20D6A/Cursos Alura/Imersão_IA_Alura'"
      ]
     },
     "execution_count": 1,
     "metadata": {},
     "output_type": "execute_result"
    }
   ],
   "source": [
    "pwd"
   ]
  },
  {
   "cell_type": "code",
   "execution_count": null,
   "id": "6ace9738",
   "metadata": {},
   "outputs": [],
   "source": []
  }
 ],
 "metadata": {
  "kernelspec": {
   "display_name": "Python 3 (ipykernel)",
   "language": "python",
   "name": "python3"
  },
  "language_info": {
   "codemirror_mode": {
    "name": "ipython",
    "version": 3
   },
   "file_extension": ".py",
   "mimetype": "text/x-python",
   "name": "python",
   "nbconvert_exporter": "python",
   "pygments_lexer": "ipython3",
   "version": "3.10.13"
  }
 },
 "nbformat": 4,
 "nbformat_minor": 5
}
