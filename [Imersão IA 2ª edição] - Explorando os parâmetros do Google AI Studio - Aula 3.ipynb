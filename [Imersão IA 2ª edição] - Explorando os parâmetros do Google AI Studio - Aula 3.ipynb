{
 "cells": [
  {
   "cell_type": "markdown",
   "id": "620ee63f",
   "metadata": {},
   "source": [
    "<h1><font color='red'>[Imersão IA 2ª ed.] - Explorando parâmetros do Google AI Studio - Aula 3</font></h1>"
   ]
  },
  {
   "cell_type": "markdown",
   "id": "08cdc405",
   "metadata": {},
   "source": [
    "<h2><font color='blue'>Márcio Estevam da Silva - Analista de Business Intelligence</font></h2>"
   ]
  },
  {
   "cell_type": "markdown",
   "id": "bb122c53",
   "metadata": {},
   "source": [
    "<hr>"
   ]
  },
  {
   "cell_type": "markdown",
   "id": "4bdb7b91",
   "metadata": {},
   "source": [
    "<h2><font color='green'>Desafios da Aula 3</font></h2>"
   ]
  },
  {
   "cell_type": "markdown",
   "id": "9437b438",
   "metadata": {},
   "source": [
    "<h3>Desafio nº 1</h3>\n",
    "\n",
    "<p>Criar seu próprio áudio e realizar um prompt para análise pelo Google AI Studio</p>"
   ]
  },
  {
   "cell_type": "markdown",
   "id": "ddba1e81",
   "metadata": {},
   "source": [
    "![Contexto de Áudio](Imgs/audio_contexto.png)"
   ]
  },
  {
   "cell_type": "markdown",
   "id": "19cb7769",
   "metadata": {},
   "source": [
    "<p><b>Obs:</b></p>\n",
    "<p>Aproveitei e testei também o contexto de vídeo, com um recorte de vídeo:</p>"
   ]
  },
  {
   "cell_type": "markdown",
   "id": "b30e2406",
   "metadata": {},
   "source": [
    "![Contexto de Vídeo:](Imgs/video_contexto.png)"
   ]
  },
  {
   "cell_type": "markdown",
   "id": "cc72ec17",
   "metadata": {},
   "source": [
    "<p>E solicitei a transcrição do vídeo como segue:</p>"
   ]
  },
  {
   "cell_type": "markdown",
   "id": "ec0a06f3",
   "metadata": {},
   "source": [
    "![Transcrição Vídeo:](Imgs/transcricao_video.png)"
   ]
  },
  {
   "cell_type": "markdown",
   "id": "b6d28477",
   "metadata": {},
   "source": [
    "<hr>"
   ]
  },
  {
   "cell_type": "markdown",
   "id": "c5520e54",
   "metadata": {},
   "source": [
    "<h3>Desafio 2:</h3>"
   ]
  },
  {
   "cell_type": "markdown",
   "id": "22f4be86",
   "metadata": {},
   "source": [
    "<p>2.1 - Pesquise como colocar a imagem do Google AI Studio dentro do código de Pyhton no Google Colab;</p>\n",
    "<p>Primeiramente, no Google Ai Studio clique sobre as figuras e salve-as em seu computador</p>\n",
    "\n",
    "![Copia Imagens:](Imgs/copia_imgs.png)\n",
    "<br>\n",
    "<p>Depois digite no navegador colab.new, para criar um novo notebook Colab</p>\n",
    "<p>Em seguida, no canto superior esquerdo da página do Colab, clique em Arquivos (ícone de pasta) e, em seguida clique em Upload para subir as 3 imagens que salvou em seu computador.</p>"
   ]
  },
  {
   "cell_type": "markdown",
   "id": "2b8d4890",
   "metadata": {},
   "source": [
    "![Colab:](Imgs/colab.png)"
   ]
  },
  {
   "cell_type": "markdown",
   "id": "adcd904b",
   "metadata": {},
   "source": [
    "<p>2.2 - Pegue os códigos que não contenham imagens do AI Studio e exporte para o Google Colab.</p>"
   ]
  },
  {
   "cell_type": "markdown",
   "id": "ff1f8fff",
   "metadata": {},
   "source": [
    "<p>No canto superior direito do Google AI Studio, clique em \"<> Get Code\" escolhendo a opção Python e clicando em Copy na janela que abrir.</p>"
   ]
  },
  {
   "cell_type": "markdown",
   "id": "cfe840ea",
   "metadata": {},
   "source": [
    "<p>Na sequência, coloque o mouse sobre o nome das figuras salvas no Colab e clique nos três pontinhos e em seguida na opção \"Copiar caminho\"</p>\n",
    "\n",
    "<p>Cole esse caminho, com o nome das figuras nos respectivos campos no código completo colado no Colab.</p>"
   ]
  },
  {
   "cell_type": "markdown",
   "id": "3e9d248b",
   "metadata": {},
   "source": [
    "<h2><font color='red'>Fim do Desafio</font></h2>"
   ]
  },
  {
   "cell_type": "markdown",
   "id": "4829bc66",
   "metadata": {},
   "source": [
    "<hr>"
   ]
  },
  {
   "cell_type": "code",
   "execution_count": 6,
   "id": "f3ee9f0c",
   "metadata": {},
   "outputs": [
    {
     "data": {
      "text/plain": [
       "'/media/marcio-estevam/0064E21564E20D6A/Cursos Alura/Imersão_IA_Alura'"
      ]
     },
     "execution_count": 6,
     "metadata": {},
     "output_type": "execute_result"
    }
   ],
   "source": [
    "pwd"
   ]
  }
 ],
 "metadata": {
  "kernelspec": {
   "display_name": "Python 3 (ipykernel)",
   "language": "python",
   "name": "python3"
  },
  "language_info": {
   "codemirror_mode": {
    "name": "ipython",
    "version": 3
   },
   "file_extension": ".py",
   "mimetype": "text/x-python",
   "name": "python",
   "nbconvert_exporter": "python",
   "pygments_lexer": "ipython3",
   "version": "3.10.13"
  }
 },
 "nbformat": 4,
 "nbformat_minor": 5
}
