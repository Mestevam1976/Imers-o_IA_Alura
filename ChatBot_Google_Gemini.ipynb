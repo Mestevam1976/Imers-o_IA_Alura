{
  "nbformat": 4,
  "nbformat_minor": 0,
  "metadata": {
    "colab": {
      "provenance": [],
      "authorship_tag": "ABX9TyPNmFcjXfXmJX/CtqWgWEIF",
      "include_colab_link": true
    },
    "kernelspec": {
      "name": "python3",
      "display_name": "Python 3"
    },
    "language_info": {
      "name": "python"
    }
  },
  "cells": [
    {
      "cell_type": "markdown",
      "metadata": {
        "id": "view-in-github",
        "colab_type": "text"
      },
      "source": [
        "<a href=\"https://colab.research.google.com/github/Mestevam1976/Imersao_IA_Alura/blob/main/ChatBot_Google_Gemini.ipynb\" target=\"_parent\"><img src=\"https://colab.research.google.com/assets/colab-badge.svg\" alt=\"Open In Colab\"/></a>"
      ]
    },
    {
      "cell_type": "markdown",
      "source": [
        "**Instalando o SDK do Google**"
      ],
      "metadata": {
        "id": "IvJtKO-aiEfn"
      }
    },
    {
      "cell_type": "code",
      "execution_count": 1,
      "metadata": {
        "id": "CiYenuF5hrwY"
      },
      "outputs": [],
      "source": [
        "#!pip install -q -U google-generativeai"
      ]
    },
    {
      "cell_type": "code",
      "source": [
        "# Importando o SDK Python\n",
        "import google.generativeai as genai\n",
        "\n",
        "GOOGLE_API_KEY='***********Apagado por segurança***********'\n",
        "genai.configure(api_key=GOOGLE_API_KEY)"
      ],
      "metadata": {
        "id": "Q-kSQomLhzRR"
      },
      "execution_count": 5,
      "outputs": []
    },
    {
      "cell_type": "markdown",
      "source": [
        "**Listando os modelos existentes**"
      ],
      "metadata": {
        "id": "L5ypxOEmilkD"
      }
    },
    {
      "cell_type": "code",
      "source": [
        "for i in genai.list_models():\n",
        "  if 'generateContent' in i.supported_generation_methods:\n",
        "    print(i.name)"
      ],
      "metadata": {
        "colab": {
          "base_uri": "https://localhost:8080/",
          "height": 146
        },
        "id": "YvriNQdIiTWA",
        "outputId": "bd5e4ee0-4c87-4fc7-aab3-5cf75fbf0e50"
      },
      "execution_count": 9,
      "outputs": [
        {
          "output_type": "stream",
          "name": "stdout",
          "text": [
            "models/gemini-1.0-pro\n",
            "models/gemini-1.0-pro-001\n",
            "models/gemini-1.0-pro-latest\n",
            "models/gemini-1.0-pro-vision-latest\n",
            "models/gemini-1.5-pro-latest\n",
            "models/gemini-pro\n",
            "models/gemini-pro-vision\n"
          ]
        }
      ]
    },
    {
      "cell_type": "markdown",
      "source": [
        "**Configurações do Modelo**"
      ],
      "metadata": {
        "id": "1xCBD-nLl1Dg"
      }
    },
    {
      "cell_type": "code",
      "source": [
        "generation_config = {\n",
        "    \"candidate_count\":1,\n",
        "    \"temperature\":0.5\n",
        "}"
      ],
      "metadata": {
        "id": "Awbv55-ikqf1"
      },
      "execution_count": 11,
      "outputs": []
    },
    {
      "cell_type": "code",
      "source": [
        "safety_settings = {\n",
        "    \"Harassment\":'Block_none',\n",
        "    \"Hate\":\"Block_none\",\n",
        "    \"Sexually_Explicit\":\"Block_none\",\n",
        "    \"Dangerous\" :\"Block_none\"\n",
        "}"
      ],
      "metadata": {
        "id": "siqNh0DWlNES"
      },
      "execution_count": 21,
      "outputs": []
    },
    {
      "cell_type": "markdown",
      "source": [
        "**Inicializando o modelo**"
      ],
      "metadata": {
        "id": "SIczMDR7mtWO"
      }
    },
    {
      "cell_type": "code",
      "source": [
        "model = genai.GenerativeModel('gemini-1.0-pro', generation_config=generation_config, safety_settings=safety_settings)"
      ],
      "metadata": {
        "id": "8Pvolcx6itj-"
      },
      "execution_count": 22,
      "outputs": []
    },
    {
      "cell_type": "markdown",
      "source": [
        "**Gerando um texto para teste do modelo**"
      ],
      "metadata": {
        "id": "dw5UBfLrn45w"
      }
    },
    {
      "cell_type": "code",
      "source": [
        "response = model.generate_content('Escreva sobre Inteligência Artificial')\n",
        "print(response.text)"
      ],
      "metadata": {
        "colab": {
          "base_uri": "https://localhost:8080/",
          "height": 808
        },
        "id": "JH7Q1iIqnMlr",
        "outputId": "141cd8d2-599c-4db2-a26c-9f9c3b564c0e"
      },
      "execution_count": 23,
      "outputs": [
        {
          "output_type": "stream",
          "name": "stdout",
          "text": [
            "**Inteligência Artificial: Revolucionando o Mundo**\n",
            "\n",
            "A Inteligência Artificial (IA) é um campo da ciência da computação que visa criar sistemas que podem executar tarefas que normalmente requerem inteligência humana, como aprendizado, resolução de problemas e tomada de decisão.\n",
            "\n",
            "**Tipos de IA**\n",
            "\n",
            "* **IA Fraca (Narrow AI):** Projetada para executar tarefas específicas, como reconhecimento facial ou tradução de idiomas.\n",
            "* **IA Geral (AGI):** Sistemas que podem realizar uma ampla gama de tarefas intelectuais, como humanos.\n",
            "* **IA Superinteligente (ASI):** Sistemas que superam as capacidades intelectuais humanas em todos os aspectos.\n",
            "\n",
            "**Aplicações da IA**\n",
            "\n",
            "A IA está encontrando aplicações em uma ampla gama de indústrias, incluindo:\n",
            "\n",
            "* **Saúde:** Diagnóstico e tratamento de doenças, desenvolvimento de medicamentos.\n",
            "* **Finanças:** Detecção de fraudes, gerenciamento de investimentos.\n",
            "* **Transporte:** Veículos autônomos, otimização de rotas.\n",
            "* **Manufatura:** Automação de processos, otimização da cadeia de suprimentos.\n",
            "* **Atendimento ao cliente:** Chatbots, recomendações personalizadas.\n",
            "\n",
            "**Benefícios da IA**\n",
            "\n",
            "* **Aumento da eficiência:** Os sistemas de IA podem automatizar tarefas repetitivas e demoradas, liberando humanos para se concentrarem em tarefas de valor agregado.\n",
            "* **Tomada de decisão aprimorada:** A IA pode analisar grandes conjuntos de dados e identificar padrões e insights que os humanos podem perder.\n",
            "* **Personalização:** Os sistemas de IA podem personalizar experiências com base nas preferências e comportamentos individuais.\n",
            "* **Inovação:** A IA pode acelerar o desenvolvimento de novos produtos e serviços, explorando possibilidades que os humanos podem não considerar.\n",
            "\n",
            "**Desafios da IA**\n",
            "\n",
            "* **Preconceito:** Os sistemas de IA podem ser tendenciosos se treinados em dados tendenciosos.\n",
            "* **Perda de empregos:** A automação de tarefas por sistemas de IA pode levar à perda de empregos em alguns setores.\n",
            "* **Questões éticas:** A IA levanta questões éticas sobre privacidade, responsabilidade e o potencial de uso indevido.\n",
            "\n",
            "**Futuro da IA**\n",
            "\n",
            "A IA está evoluindo rapidamente e espera-se que tenha um impacto profundo em nossas vidas nos próximos anos. À medida que a tecnologia avança, podemos esperar ver avanços em:\n",
            "\n",
            "* **Aprendizado de máquina:** Sistemas de IA que podem aprender com a experiência sem serem explicitamente programados.\n",
            "* **Processamento de linguagem natural:** Sistemas de IA que podem entender e gerar linguagem humana.\n",
            "* **Visão computacional:** Sistemas de IA que podem \"ver\" e interpretar imagens e vídeos.\n",
            "\n",
            "A IA tem o potencial de transformar o mundo de maneiras sem precedentes. No entanto, é crucial abordar os desafios éticos e garantir que a IA seja usada para o bem da humanidade.\n"
          ]
        }
      ]
    },
    {
      "cell_type": "code",
      "source": [
        "chat = model.start_chat(history=[])"
      ],
      "metadata": {
        "id": "Tgag0xrylyAo"
      },
      "execution_count": 24,
      "outputs": []
    },
    {
      "cell_type": "code",
      "source": [
        "prompt = input('Esperando prompt: ')\n",
        "\n",
        "while prompt != \"fim\":\n",
        "  response = chat.send_message(prompt)\n",
        "  print(\"Resposta: \",response.text,'\\n')\n",
        "  prompt = input('Esperando prompt: ')"
      ],
      "metadata": {
        "colab": {
          "base_uri": "https://localhost:8080/",
          "height": 311
        },
        "id": "Atil3RV_o2N1",
        "outputId": "387eb7d9-c0b1-44e4-b382-b6e86f10539d"
      },
      "execution_count": 28,
      "outputs": [
        {
          "name": "stdout",
          "output_type": "stream",
          "text": [
            "Esperando prompt: Qual é a capital do Japão?\n",
            "Resposta:  Tóquio \n",
            "\n",
            "Esperando prompt: Qual é a comida típica desse país?\n",
            "Resposta:  Sushi \n",
            "\n",
            "Esperando prompt: Qual é o gentílico desse país?\n",
            "Resposta:  Japonês \n",
            "\n",
            "Esperando prompt: Como são chamados os descendentes japoneses que não são nascidos no Japão?\n",
            "Resposta:  Nikkei \n",
            "\n",
            "Esperando prompt: Qual é a população dessa cidade?\n",
            "Resposta:  Tóquio tem uma população estimada de 13.960.344 habitantes (2023). \n",
            "\n",
            "Esperando prompt: fim\n"
          ]
        }
      ]
    },
    {
      "cell_type": "code",
      "source": [
        "chat"
      ],
      "metadata": {
        "colab": {
          "base_uri": "https://localhost:8080/"
        },
        "id": "BsQaSTLhsK2e",
        "outputId": "ddd900ee-b076-4a90-f4fe-267a84074c7a"
      },
      "execution_count": 30,
      "outputs": [
        {
          "output_type": "execute_result",
          "data": {
            "text/plain": [
              "ChatSession(\n",
              "    model=genai.GenerativeModel(\n",
              "        model_name='models/gemini-1.0-pro',\n",
              "        generation_config={'candidate_count': 1, 'temperature': 0.5},\n",
              "        safety_settings={<HarmCategory.HARM_CATEGORY_HARASSMENT: 7>: <HarmBlockThreshold.BLOCK_NONE: 4>, <HarmCategory.HARM_CATEGORY_HATE_SPEECH: 8>: <HarmBlockThreshold.BLOCK_NONE: 4>, <HarmCategory.HARM_CATEGORY_SEXUALLY_EXPLICIT: 9>: <HarmBlockThreshold.BLOCK_NONE: 4>, <HarmCategory.HARM_CATEGORY_DANGEROUS_CONTENT: 10>: <HarmBlockThreshold.BLOCK_NONE: 4>},\n",
              "        tools=None,\n",
              "        system_instruction=None,\n",
              "    ),\n",
              "    history=[glm.Content({'parts': [{'text': 'Olá bom dia'}], 'role': 'user'}), glm.Content({'parts': [{'text': 'Bom dia para...judá-lo hoje?'}], 'role': 'model'}), glm.Content({'parts': [{'text': 'Olá bom dia'}], 'role': 'user'}), glm.Content({'parts': [{'text': 'Bom dia! Com...judá-lo hoje?'}], 'role': 'model'}), glm.Content({'parts': [{'text': 'Olá bom dia'}], 'role': 'user'}), glm.Content({'parts': [{'text': 'Bom dia! Com...judá-lo hoje?'}], 'role': 'model'}), glm.Content({'parts': [{'text': 'Olá bom dia'}], 'role': 'user'}), glm.Content({'parts': [{'text': 'Bom dia! Com...judá-lo hoje?'}], 'role': 'model'}), glm.Content({'parts': [{'text': 'Olá bom dia'}], 'role': 'user'}), glm.Content({'parts': [{'text': 'Bom dia! Com...judá-lo hoje?'}], 'role': 'model'}), glm.Content({'parts': [{'text': 'Olá bom dia'}], 'role': 'user'}), glm.Content({'parts': [{'text': 'Bom dia! Com...judá-lo hoje?'}], 'role': 'model'}), glm.Content({'parts': [{'text': 'Olá bom dia'}], 'role': 'user'}), glm.Content({'parts': [{'text': 'Bom dia! Com...judá-lo hoje?'}], 'role': 'model'}), glm.Content({'parts': [{'text': 'Olá bom dia!'}], 'role': 'user'}), glm.Content({'parts': [{'text': 'Bom dia para...judá-lo hoje?'}], 'role': 'model'}), glm.Content({'parts': [{'text': 'Que dia é hoje?'}], 'role': 'user'}), glm.Content({'parts': [{'text': 'Hoje é terça...eiro de 2023.'}], 'role': 'model'}), glm.Content({'parts': [{'text': 'Qual é a capital do Japão?'}], 'role': 'user'}), glm.Content({'parts': [{'text': 'Tóquio'}], 'role': 'model'}), glm.Content({'parts': [{'text': 'Qual é a com...a desse país?'}], 'role': 'user'}), glm.Content({'parts': [{'text': 'Sushi'}], 'role': 'model'}), glm.Content({'parts': [{'text': 'Qual é o gen...o desse país?'}], 'role': 'user'}), glm.Content({'parts': [{'text': 'Japonês'}], 'role': 'model'}), glm.Content({'parts': [{'text': 'Como são cha...dos no Japão?'}], 'role': 'user'}), glm.Content({'parts': [{'text': 'Nikkei'}], 'role': 'model'}), glm.Content({'parts': [{'text': 'Qual é a pop...dessa cidade?'}], 'role': 'user'}), glm.Content({'parts': [{'text': 'Tóquio tem u...antes (2023).'}], 'role': 'model'})]\n",
              ")"
            ]
          },
          "metadata": {},
          "execution_count": 30
        }
      ]
    },
    {
      "cell_type": "code",
      "source": [
        "chat.history"
      ],
      "metadata": {
        "colab": {
          "base_uri": "https://localhost:8080/"
        },
        "id": "fiC2ct6lsNRi",
        "outputId": "cac245c8-a2ba-482c-bffb-e4202d3c8cad"
      },
      "execution_count": 31,
      "outputs": [
        {
          "output_type": "execute_result",
          "data": {
            "text/plain": [
              "[parts {\n",
              "   text: \"Ol\\303\\241 bom dia\"\n",
              " }\n",
              " role: \"user\",\n",
              " parts {\n",
              "   text: \"Bom dia para voc\\303\\252 tamb\\303\\251m! Como posso ajud\\303\\241-lo hoje?\"\n",
              " }\n",
              " role: \"model\",\n",
              " parts {\n",
              "   text: \"Ol\\303\\241 bom dia\"\n",
              " }\n",
              " role: \"user\",\n",
              " parts {\n",
              "   text: \"Bom dia! Como posso ajud\\303\\241-lo hoje?\"\n",
              " }\n",
              " role: \"model\",\n",
              " parts {\n",
              "   text: \"Ol\\303\\241 bom dia\"\n",
              " }\n",
              " role: \"user\",\n",
              " parts {\n",
              "   text: \"Bom dia! Como posso ajud\\303\\241-lo hoje?\"\n",
              " }\n",
              " role: \"model\",\n",
              " parts {\n",
              "   text: \"Ol\\303\\241 bom dia\"\n",
              " }\n",
              " role: \"user\",\n",
              " parts {\n",
              "   text: \"Bom dia! Como posso ajud\\303\\241-lo hoje?\"\n",
              " }\n",
              " role: \"model\",\n",
              " parts {\n",
              "   text: \"Ol\\303\\241 bom dia\"\n",
              " }\n",
              " role: \"user\",\n",
              " parts {\n",
              "   text: \"Bom dia! Como posso ajud\\303\\241-lo hoje?\"\n",
              " }\n",
              " role: \"model\",\n",
              " parts {\n",
              "   text: \"Ol\\303\\241 bom dia\"\n",
              " }\n",
              " role: \"user\",\n",
              " parts {\n",
              "   text: \"Bom dia! Como posso ajud\\303\\241-lo hoje?\"\n",
              " }\n",
              " role: \"model\",\n",
              " parts {\n",
              "   text: \"Ol\\303\\241 bom dia\"\n",
              " }\n",
              " role: \"user\",\n",
              " parts {\n",
              "   text: \"Bom dia! Como posso ajud\\303\\241-lo hoje?\"\n",
              " }\n",
              " role: \"model\",\n",
              " parts {\n",
              "   text: \"Ol\\303\\241 bom dia!\"\n",
              " }\n",
              " role: \"user\",\n",
              " parts {\n",
              "   text: \"Bom dia para voc\\303\\252 tamb\\303\\251m! Como posso ajud\\303\\241-lo hoje?\"\n",
              " }\n",
              " role: \"model\",\n",
              " parts {\n",
              "   text: \"Que dia \\303\\251 hoje?\"\n",
              " }\n",
              " role: \"user\",\n",
              " parts {\n",
              "   text: \"Hoje \\303\\251 ter\\303\\247a-feira, 28 de fevereiro de 2023.\"\n",
              " }\n",
              " role: \"model\",\n",
              " parts {\n",
              "   text: \"Qual \\303\\251 a capital do Jap\\303\\243o?\"\n",
              " }\n",
              " role: \"user\",\n",
              " parts {\n",
              "   text: \"T\\303\\263quio\"\n",
              " }\n",
              " role: \"model\",\n",
              " parts {\n",
              "   text: \"Qual \\303\\251 a comida t\\303\\255pica desse pa\\303\\255s?\"\n",
              " }\n",
              " role: \"user\",\n",
              " parts {\n",
              "   text: \"Sushi\"\n",
              " }\n",
              " role: \"model\",\n",
              " parts {\n",
              "   text: \"Qual \\303\\251 o gent\\303\\255lico desse pa\\303\\255s?\"\n",
              " }\n",
              " role: \"user\",\n",
              " parts {\n",
              "   text: \"Japon\\303\\252s\"\n",
              " }\n",
              " role: \"model\",\n",
              " parts {\n",
              "   text: \"Como s\\303\\243o chamados os descendentes japoneses que n\\303\\243o s\\303\\243o nascidos no Jap\\303\\243o?\"\n",
              " }\n",
              " role: \"user\",\n",
              " parts {\n",
              "   text: \"Nikkei\"\n",
              " }\n",
              " role: \"model\",\n",
              " parts {\n",
              "   text: \"Qual \\303\\251 a popula\\303\\247\\303\\243o dessa cidade?\"\n",
              " }\n",
              " role: \"user\",\n",
              " parts {\n",
              "   text: \"T\\303\\263quio tem uma popula\\303\\247\\303\\243o estimada de 13.960.344 habitantes (2023).\"\n",
              " }\n",
              " role: \"model\"]"
            ]
          },
          "metadata": {},
          "execution_count": 31
        }
      ]
    },
    {
      "cell_type": "code",
      "source": [
        "# Melhorando a visualização\n",
        "# Código disponível em https://ai.google.dev/tutorials/python_quickstart#import_packages\n",
        "\n",
        "import textwrap\n",
        "from IPython.display import display\n",
        "from IPython.display import Markdown\n",
        "\n",
        "def to_markdown(text):\n",
        "  text = text.replace('•', '  *')\n",
        "  return Markdown(textwrap.indent(text, '> ', predicate=lambda _: True))\n",
        "\n",
        "# Imprimindo o histórico\n",
        "for message in chat.history:\n",
        "  display(to_markdown(f'**{message.role}**: {message.parts[0].text}'))\n",
        "  print('--------------------------------------------')\n"
      ],
      "metadata": {
        "colab": {
          "base_uri": "https://localhost:8080/",
          "height": 1000
        },
        "id": "IZ1rdXaro7uc",
        "outputId": "508f3af8-ef13-4d57-e294-222fe6168bc9"
      },
      "execution_count": 29,
      "outputs": [
        {
          "output_type": "display_data",
          "data": {
            "text/plain": [
              "<IPython.core.display.Markdown object>"
            ],
            "text/markdown": "> **user**: Olá bom dia"
          },
          "metadata": {}
        },
        {
          "output_type": "stream",
          "name": "stdout",
          "text": [
            "--------------------------------------------\n"
          ]
        },
        {
          "output_type": "display_data",
          "data": {
            "text/plain": [
              "<IPython.core.display.Markdown object>"
            ],
            "text/markdown": "> **model**: Bom dia para você também! Como posso ajudá-lo hoje?"
          },
          "metadata": {}
        },
        {
          "output_type": "stream",
          "name": "stdout",
          "text": [
            "--------------------------------------------\n"
          ]
        },
        {
          "output_type": "display_data",
          "data": {
            "text/plain": [
              "<IPython.core.display.Markdown object>"
            ],
            "text/markdown": "> **user**: Olá bom dia"
          },
          "metadata": {}
        },
        {
          "output_type": "stream",
          "name": "stdout",
          "text": [
            "--------------------------------------------\n"
          ]
        },
        {
          "output_type": "display_data",
          "data": {
            "text/plain": [
              "<IPython.core.display.Markdown object>"
            ],
            "text/markdown": "> **model**: Bom dia! Como posso ajudá-lo hoje?"
          },
          "metadata": {}
        },
        {
          "output_type": "stream",
          "name": "stdout",
          "text": [
            "--------------------------------------------\n"
          ]
        },
        {
          "output_type": "display_data",
          "data": {
            "text/plain": [
              "<IPython.core.display.Markdown object>"
            ],
            "text/markdown": "> **user**: Olá bom dia"
          },
          "metadata": {}
        },
        {
          "output_type": "stream",
          "name": "stdout",
          "text": [
            "--------------------------------------------\n"
          ]
        },
        {
          "output_type": "display_data",
          "data": {
            "text/plain": [
              "<IPython.core.display.Markdown object>"
            ],
            "text/markdown": "> **model**: Bom dia! Como posso ajudá-lo hoje?"
          },
          "metadata": {}
        },
        {
          "output_type": "stream",
          "name": "stdout",
          "text": [
            "--------------------------------------------\n"
          ]
        },
        {
          "output_type": "display_data",
          "data": {
            "text/plain": [
              "<IPython.core.display.Markdown object>"
            ],
            "text/markdown": "> **user**: Olá bom dia"
          },
          "metadata": {}
        },
        {
          "output_type": "stream",
          "name": "stdout",
          "text": [
            "--------------------------------------------\n"
          ]
        },
        {
          "output_type": "display_data",
          "data": {
            "text/plain": [
              "<IPython.core.display.Markdown object>"
            ],
            "text/markdown": "> **model**: Bom dia! Como posso ajudá-lo hoje?"
          },
          "metadata": {}
        },
        {
          "output_type": "stream",
          "name": "stdout",
          "text": [
            "--------------------------------------------\n"
          ]
        },
        {
          "output_type": "display_data",
          "data": {
            "text/plain": [
              "<IPython.core.display.Markdown object>"
            ],
            "text/markdown": "> **user**: Olá bom dia"
          },
          "metadata": {}
        },
        {
          "output_type": "stream",
          "name": "stdout",
          "text": [
            "--------------------------------------------\n"
          ]
        },
        {
          "output_type": "display_data",
          "data": {
            "text/plain": [
              "<IPython.core.display.Markdown object>"
            ],
            "text/markdown": "> **model**: Bom dia! Como posso ajudá-lo hoje?"
          },
          "metadata": {}
        },
        {
          "output_type": "stream",
          "name": "stdout",
          "text": [
            "--------------------------------------------\n"
          ]
        },
        {
          "output_type": "display_data",
          "data": {
            "text/plain": [
              "<IPython.core.display.Markdown object>"
            ],
            "text/markdown": "> **user**: Olá bom dia"
          },
          "metadata": {}
        },
        {
          "output_type": "stream",
          "name": "stdout",
          "text": [
            "--------------------------------------------\n"
          ]
        },
        {
          "output_type": "display_data",
          "data": {
            "text/plain": [
              "<IPython.core.display.Markdown object>"
            ],
            "text/markdown": "> **model**: Bom dia! Como posso ajudá-lo hoje?"
          },
          "metadata": {}
        },
        {
          "output_type": "stream",
          "name": "stdout",
          "text": [
            "--------------------------------------------\n"
          ]
        },
        {
          "output_type": "display_data",
          "data": {
            "text/plain": [
              "<IPython.core.display.Markdown object>"
            ],
            "text/markdown": "> **user**: Olá bom dia"
          },
          "metadata": {}
        },
        {
          "output_type": "stream",
          "name": "stdout",
          "text": [
            "--------------------------------------------\n"
          ]
        },
        {
          "output_type": "display_data",
          "data": {
            "text/plain": [
              "<IPython.core.display.Markdown object>"
            ],
            "text/markdown": "> **model**: Bom dia! Como posso ajudá-lo hoje?"
          },
          "metadata": {}
        },
        {
          "output_type": "stream",
          "name": "stdout",
          "text": [
            "--------------------------------------------\n"
          ]
        },
        {
          "output_type": "display_data",
          "data": {
            "text/plain": [
              "<IPython.core.display.Markdown object>"
            ],
            "text/markdown": "> **user**: Olá bom dia!"
          },
          "metadata": {}
        },
        {
          "output_type": "stream",
          "name": "stdout",
          "text": [
            "--------------------------------------------\n"
          ]
        },
        {
          "output_type": "display_data",
          "data": {
            "text/plain": [
              "<IPython.core.display.Markdown object>"
            ],
            "text/markdown": "> **model**: Bom dia para você também! Como posso ajudá-lo hoje?"
          },
          "metadata": {}
        },
        {
          "output_type": "stream",
          "name": "stdout",
          "text": [
            "--------------------------------------------\n"
          ]
        },
        {
          "output_type": "display_data",
          "data": {
            "text/plain": [
              "<IPython.core.display.Markdown object>"
            ],
            "text/markdown": "> **user**: Que dia é hoje?"
          },
          "metadata": {}
        },
        {
          "output_type": "stream",
          "name": "stdout",
          "text": [
            "--------------------------------------------\n"
          ]
        },
        {
          "output_type": "display_data",
          "data": {
            "text/plain": [
              "<IPython.core.display.Markdown object>"
            ],
            "text/markdown": "> **model**: Hoje é terça-feira, 28 de fevereiro de 2023."
          },
          "metadata": {}
        },
        {
          "output_type": "stream",
          "name": "stdout",
          "text": [
            "--------------------------------------------\n"
          ]
        },
        {
          "output_type": "display_data",
          "data": {
            "text/plain": [
              "<IPython.core.display.Markdown object>"
            ],
            "text/markdown": "> **user**: Qual é a capital do Japão?"
          },
          "metadata": {}
        },
        {
          "output_type": "stream",
          "name": "stdout",
          "text": [
            "--------------------------------------------\n"
          ]
        },
        {
          "output_type": "display_data",
          "data": {
            "text/plain": [
              "<IPython.core.display.Markdown object>"
            ],
            "text/markdown": "> **model**: Tóquio"
          },
          "metadata": {}
        },
        {
          "output_type": "stream",
          "name": "stdout",
          "text": [
            "--------------------------------------------\n"
          ]
        },
        {
          "output_type": "display_data",
          "data": {
            "text/plain": [
              "<IPython.core.display.Markdown object>"
            ],
            "text/markdown": "> **user**: Qual é a comida típica desse país?"
          },
          "metadata": {}
        },
        {
          "output_type": "stream",
          "name": "stdout",
          "text": [
            "--------------------------------------------\n"
          ]
        },
        {
          "output_type": "display_data",
          "data": {
            "text/plain": [
              "<IPython.core.display.Markdown object>"
            ],
            "text/markdown": "> **model**: Sushi"
          },
          "metadata": {}
        },
        {
          "output_type": "stream",
          "name": "stdout",
          "text": [
            "--------------------------------------------\n"
          ]
        },
        {
          "output_type": "display_data",
          "data": {
            "text/plain": [
              "<IPython.core.display.Markdown object>"
            ],
            "text/markdown": "> **user**: Qual é o gentílico desse país?"
          },
          "metadata": {}
        },
        {
          "output_type": "stream",
          "name": "stdout",
          "text": [
            "--------------------------------------------\n"
          ]
        },
        {
          "output_type": "display_data",
          "data": {
            "text/plain": [
              "<IPython.core.display.Markdown object>"
            ],
            "text/markdown": "> **model**: Japonês"
          },
          "metadata": {}
        },
        {
          "output_type": "stream",
          "name": "stdout",
          "text": [
            "--------------------------------------------\n"
          ]
        },
        {
          "output_type": "display_data",
          "data": {
            "text/plain": [
              "<IPython.core.display.Markdown object>"
            ],
            "text/markdown": "> **user**: Como são chamados os descendentes japoneses que não são nascidos no Japão?"
          },
          "metadata": {}
        },
        {
          "output_type": "stream",
          "name": "stdout",
          "text": [
            "--------------------------------------------\n"
          ]
        },
        {
          "output_type": "display_data",
          "data": {
            "text/plain": [
              "<IPython.core.display.Markdown object>"
            ],
            "text/markdown": "> **model**: Nikkei"
          },
          "metadata": {}
        },
        {
          "output_type": "stream",
          "name": "stdout",
          "text": [
            "--------------------------------------------\n"
          ]
        },
        {
          "output_type": "display_data",
          "data": {
            "text/plain": [
              "<IPython.core.display.Markdown object>"
            ],
            "text/markdown": "> **user**: Qual é a população dessa cidade?"
          },
          "metadata": {}
        },
        {
          "output_type": "stream",
          "name": "stdout",
          "text": [
            "--------------------------------------------\n"
          ]
        },
        {
          "output_type": "display_data",
          "data": {
            "text/plain": [
              "<IPython.core.display.Markdown object>"
            ],
            "text/markdown": "> **model**: Tóquio tem uma população estimada de 13.960.344 habitantes (2023)."
          },
          "metadata": {}
        },
        {
          "output_type": "stream",
          "name": "stdout",
          "text": [
            "--------------------------------------------\n"
          ]
        }
      ]
    }
  ]
}
