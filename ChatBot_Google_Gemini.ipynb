{
  "nbformat": 4,
  "nbformat_minor": 0,
  "metadata": {
    "colab": {
      "provenance": [],
      "authorship_tag": "ABX9TyOmbMCwlfoVi0K27XJLnAsa",
      "include_colab_link": true
    },
    "kernelspec": {
      "name": "python3",
      "display_name": "Python 3"
    },
    "language_info": {
      "name": "python"
    }
  },
  "cells": [
    {
      "cell_type": "markdown",
      "metadata": {
        "id": "view-in-github",
        "colab_type": "text"
      },
      "source": [
        "<a href=\"https://colab.research.google.com/github/Mestevam1976/Imersao_IA_Alura/blob/main/ChatBot_Google_Gemini.ipynb\" target=\"_parent\"><img src=\"https://colab.research.google.com/assets/colab-badge.svg\" alt=\"Open In Colab\"/></a>"
      ]
    },
    {
      "cell_type": "markdown",
      "source": [
        "**Instalando o SDK do Google**"
      ],
      "metadata": {
        "id": "IvJtKO-aiEfn"
      }
    },
    {
      "cell_type": "code",
      "execution_count": 35,
      "metadata": {
        "id": "CiYenuF5hrwY"
      },
      "outputs": [],
      "source": [
        "#!pip install -q -U google-generativeai"
      ]
    },
    {
      "cell_type": "code",
      "source": [
        "# Importando o SDK Python\n",
        "import google.generativeai as genai\n",
        "from google.colab import userdata\n",
        "API_KEY = userdata.get('SECRET_KEY')\n",
        "\n",
        "genai.configure(api_key=API_KEY)"
      ],
      "metadata": {
        "id": "Q-kSQomLhzRR"
      },
      "execution_count": 36,
      "outputs": []
    },
    {
      "cell_type": "markdown",
      "source": [
        "**Listando os modelos existentes**"
      ],
      "metadata": {
        "id": "L5ypxOEmilkD"
      }
    },
    {
      "cell_type": "code",
      "source": [
        "for i in genai.list_models():\n",
        "  if 'generateContent' in i.supported_generation_methods:\n",
        "    print(i.name)"
      ],
      "metadata": {
        "colab": {
          "base_uri": "https://localhost:8080/",
          "height": 146
        },
        "id": "YvriNQdIiTWA",
        "outputId": "e55ff942-ae7e-4f95-a5db-508ff8c96f51"
      },
      "execution_count": 37,
      "outputs": [
        {
          "output_type": "stream",
          "name": "stdout",
          "text": [
            "models/gemini-1.0-pro\n",
            "models/gemini-1.0-pro-001\n",
            "models/gemini-1.0-pro-latest\n",
            "models/gemini-1.0-pro-vision-latest\n",
            "models/gemini-1.5-pro-latest\n",
            "models/gemini-pro\n",
            "models/gemini-pro-vision\n"
          ]
        }
      ]
    },
    {
      "cell_type": "markdown",
      "source": [
        "**Configurações do Modelo**"
      ],
      "metadata": {
        "id": "1xCBD-nLl1Dg"
      }
    },
    {
      "cell_type": "code",
      "source": [
        "generation_config = {\n",
        "    \"candidate_count\":1,\n",
        "    \"temperature\":0.5\n",
        "}"
      ],
      "metadata": {
        "id": "Awbv55-ikqf1"
      },
      "execution_count": 38,
      "outputs": []
    },
    {
      "cell_type": "code",
      "source": [
        "safety_settings = {\n",
        "    \"Harassment\":'Block_none',\n",
        "    \"Hate\":\"Block_none\",\n",
        "    \"Sexually_Explicit\":\"Block_none\",\n",
        "    \"Dangerous\" :\"Block_none\"\n",
        "}"
      ],
      "metadata": {
        "id": "siqNh0DWlNES"
      },
      "execution_count": 39,
      "outputs": []
    },
    {
      "cell_type": "markdown",
      "source": [
        "**Inicializando o modelo**"
      ],
      "metadata": {
        "id": "SIczMDR7mtWO"
      }
    },
    {
      "cell_type": "code",
      "source": [
        "model = genai.GenerativeModel('gemini-1.0-pro', generation_config=generation_config, safety_settings=safety_settings)"
      ],
      "metadata": {
        "id": "8Pvolcx6itj-"
      },
      "execution_count": 40,
      "outputs": []
    },
    {
      "cell_type": "markdown",
      "source": [
        "**Gerando um texto para teste do modelo**"
      ],
      "metadata": {
        "id": "dw5UBfLrn45w"
      }
    },
    {
      "cell_type": "code",
      "source": [
        "response = model.generate_content('Escreva sobre Inteligência Artificial')\n",
        "print(response.text)"
      ],
      "metadata": {
        "colab": {
          "base_uri": "https://localhost:8080/",
          "height": 826
        },
        "id": "JH7Q1iIqnMlr",
        "outputId": "9c170176-8dd4-4347-cbd0-43f80d3e3224"
      },
      "execution_count": 41,
      "outputs": [
        {
          "output_type": "stream",
          "name": "stdout",
          "text": [
            "**Inteligência Artificial: Transformando o Futuro**\n",
            "\n",
            "A Inteligência Artificial (IA) é um campo em rápido avanço que está revolucionando vários aspectos de nossas vidas. É a capacidade das máquinas de executar tarefas normalmente associadas à inteligência humana, como aprendizado, resolução de problemas e tomada de decisão.\n",
            "\n",
            "**Tipos de Inteligência Artificial**\n",
            "\n",
            "Existem vários tipos de IA, cada um com seus próprios recursos e aplicações:\n",
            "\n",
            "* **IA Fraca:** Projetada para executar tarefas específicas, como reconhecimento de imagem ou tradução de idiomas.\n",
            "* **IA Forte:** Teoricamente capaz de realizar qualquer tarefa intelectual que um ser humano possa fazer.\n",
            "* **Aprendizado de Máquina:** Permite que os computadores aprendam com dados sem serem explicitamente programados.\n",
            "* **Aprendizado Profundo:** Um subconjunto do aprendizado de máquina que usa redes neurais para processar dados complexos.\n",
            "\n",
            "**Aplicações da Inteligência Artificial**\n",
            "\n",
            "A IA tem inúmeras aplicações em vários setores, incluindo:\n",
            "\n",
            "* **Saúde:** Diagnóstico de doenças, desenvolvimento de medicamentos e assistência cirúrgica.\n",
            "* **Finanças:** Detecção de fraudes, análise de investimentos e gerenciamento de portfólio.\n",
            "* **Transporte:** Veículos autônomos, otimização de rotas e gerenciamento de tráfego.\n",
            "* **Manufatura:** Automação de processos, controle de qualidade e otimização da cadeia de suprimentos.\n",
            "* **Atendimento ao Cliente:** Chatbots, assistentes virtuais e análise de sentimento.\n",
            "\n",
            "**Benefícios da Inteligência Artificial**\n",
            "\n",
            "A IA oferece vários benefícios, incluindo:\n",
            "\n",
            "* **Eficiência aprimorada:** Automatiza tarefas repetitivas e demoradas, liberando tempo para atividades mais complexas.\n",
            "* **Tomada de decisão aprimorada:** Fornece insights valiosos de dados massivos, ajudando na tomada de decisões mais informadas.\n",
            "* **Novos produtos e serviços:** Permite o desenvolvimento de produtos e serviços inovadores que não seriam possíveis sem a IA.\n",
            "* **Personalização aprimorada:** Adapta experiências e recomendações com base nas preferências e comportamentos individuais.\n",
            "\n",
            "**Desafios da Inteligência Artificial**\n",
            "\n",
            "Apesar de seus benefícios, a IA também apresenta alguns desafios:\n",
            "\n",
            "* **Preconceito:** Os algoritmos de IA podem ser tendenciosos se treinados com dados tendenciosos.\n",
            "* **Perda de empregos:** A automação pode levar à perda de empregos em certos setores.\n",
            "* **Questões éticas:** A IA levanta questões éticas sobre privacidade, responsabilidade e o impacto na sociedade.\n",
            "\n",
            "**Conclusão**\n",
            "\n",
            "A Inteligência Artificial é uma tecnologia transformadora que está moldando nosso futuro. À medida que a IA continua a avançar, é essencial abordar seus desafios e aproveitar seus benefícios para criar um futuro melhor para todos.\n"
          ]
        }
      ]
    },
    {
      "cell_type": "code",
      "source": [
        "chat = model.start_chat(history=[])"
      ],
      "metadata": {
        "id": "Tgag0xrylyAo"
      },
      "execution_count": 42,
      "outputs": []
    },
    {
      "cell_type": "code",
      "source": [
        "prompt = input('Esperando prompt: ')\n",
        "\n",
        "while prompt != \"fim\":\n",
        "  response = chat.send_message(prompt)\n",
        "  print(\"Resposta: \",response.text,'\\n')\n",
        "  prompt = input('Esperando prompt: ')"
      ],
      "metadata": {
        "colab": {
          "base_uri": "https://localhost:8080/",
          "height": 735
        },
        "id": "Atil3RV_o2N1",
        "outputId": "cbba39d4-5b1c-46aa-a386-5dd4f4625b4a"
      },
      "execution_count": 43,
      "outputs": [
        {
          "name": "stdout",
          "output_type": "stream",
          "text": [
            "Esperando prompt: Boa tarde!\n",
            "Resposta:  Boa tarde! Como posso ajudá-lo hoje? \n",
            "\n",
            "Esperando prompt: Que horas são?\n",
            "Resposta:  **[Hora atual]** \n",
            "\n",
            "Esperando prompt: Quem veio primeiro o ovo ou a galinha?\n",
            "Resposta:  A questão de saber se veio primeiro o ovo ou a galinha é um paradoxo clássico. Não há uma resposta científica definitiva, mas existem algumas teorias:\n",
            "\n",
            "* **Teoria do Ovo:** Esta teoria sugere que o primeiro ovo foi posto por uma criatura semelhante a uma galinha que não era uma galinha verdadeira. Com o tempo, através da evolução, esses ovos deram origem a galinhas.\n",
            "* **Teoria da Galinha:** Esta teoria propõe que a primeira galinha evoluiu de uma ave que não punha ovos. Com o tempo, essa ave desenvolveu a capacidade de produzir ovos com cascas duras.\n",
            "\n",
            "A maioria dos cientistas acredita que a teoria do ovo é mais provável, pois é apoiada por evidências fósseis. No entanto, a questão ainda é objeto de debate. \n",
            "\n",
            "Esperando prompt: Qual a capital da Finlândia\n",
            "Resposta:  Helsinque \n",
            "\n",
            "Esperando prompt: Quanto é 20 + 34\n",
            "Resposta:  54 \n",
            "\n",
            "Esperando prompt: Qual o décimo primeiro número primo?\n",
            "Resposta:  29 \n",
            "\n",
            "Esperando prompt: Qual a comida típica desse país?\n",
            "Resposta:  Qual país? Você precisa especificar o país para que eu possa fornecer a comida típica. \n",
            "\n",
            "Esperando prompt: Qual a comída típica da Finlândia?\n",
            "Resposta:  * **Kalakukko:** Uma torta de peixe feita com salmão ou outro peixe branco, bacon e cebola, assada em uma crosta de centeio.\n",
            "* **Karjalanpaisti:** Um ensopado de carne feito com carne bovina ou suína, cenouras, cebolas e especiarias.\n",
            "* **Makkara:** Uma salsicha finlandesa tradicionalmente feita com carne de porco, vaca ou rena.\n",
            "* **Lihapullat:** Almôndegas finlandesas geralmente servidas com purê de batata e molho.\n",
            "* **Lohikeitto:** Uma sopa de salmão cremosa feita com salmão, batatas, cenouras e alho-poró.\n",
            "* **Ruisleipä:** Um pão de centeio escuro e denso que é um alimento básico na Finlândia.\n",
            "* **Mustikkapiirakka:** Uma torta de mirtilo feita com mirtilos frescos ou congelados.\n",
            "* **Korvapuusti:** Um pão doce em forma de orelha recheado com canela e açúcar.\n",
            "* **Salmiakki:** Um doce salgado e preto com sabor de amônia, popular na Finlândia. \n",
            "\n",
            "Esperando prompt: fim\n"
          ]
        }
      ]
    },
    {
      "cell_type": "code",
      "source": [
        "chat"
      ],
      "metadata": {
        "colab": {
          "base_uri": "https://localhost:8080/"
        },
        "id": "BsQaSTLhsK2e",
        "outputId": "c4ec0ae1-d385-464f-c9ce-d9f51444fc65"
      },
      "execution_count": 44,
      "outputs": [
        {
          "output_type": "execute_result",
          "data": {
            "text/plain": [
              "ChatSession(\n",
              "    model=genai.GenerativeModel(\n",
              "        model_name='models/gemini-1.0-pro',\n",
              "        generation_config={'candidate_count': 1, 'temperature': 0.5},\n",
              "        safety_settings={<HarmCategory.HARM_CATEGORY_HARASSMENT: 7>: <HarmBlockThreshold.BLOCK_NONE: 4>, <HarmCategory.HARM_CATEGORY_HATE_SPEECH: 8>: <HarmBlockThreshold.BLOCK_NONE: 4>, <HarmCategory.HARM_CATEGORY_SEXUALLY_EXPLICIT: 9>: <HarmBlockThreshold.BLOCK_NONE: 4>, <HarmCategory.HARM_CATEGORY_DANGEROUS_CONTENT: 10>: <HarmBlockThreshold.BLOCK_NONE: 4>},\n",
              "        tools=None,\n",
              "        system_instruction=None,\n",
              "    ),\n",
              "    history=[glm.Content({'parts': [{'text': 'Boa tarde!'}], 'role': 'user'}), glm.Content({'parts': [{'text': 'Boa tarde! C...judá-lo hoje?'}], 'role': 'model'}), glm.Content({'parts': [{'text': 'Que horas são?'}], 'role': 'user'}), glm.Content({'parts': [{'text': '**[Hora atual]**'}], 'role': 'model'}), glm.Content({'parts': [{'text': 'Quem veio pr...ou a galinha?'}], 'role': 'user'}), glm.Content({'parts': [{'text': 'A questão de...to de debate.'}], 'role': 'model'}), glm.Content({'parts': [{'text': 'Qual a capital da Finlândia'}], 'role': 'user'}), glm.Content({'parts': [{'text': 'Helsinque'}], 'role': 'model'}), glm.Content({'parts': [{'text': 'Quanto é 20 + 34'}], 'role': 'user'}), glm.Content({'parts': [{'text': '54'}], 'role': 'model'}), glm.Content({'parts': [{'text': 'Qual o décim...número primo?'}], 'role': 'user'}), glm.Content({'parts': [{'text': '29'}], 'role': 'model'}), glm.Content({'parts': [{'text': 'Qual a comid...a desse país?'}], 'role': 'user'}), glm.Content({'parts': [{'text': 'Qual país? V...omida típica.'}], 'role': 'model'}), glm.Content({'parts': [{'text': 'Qual a comíd...da Finlândia?'}], 'role': 'user'}), glm.Content({'parts': [{'text': '* **Kalakukk...na Finlândia.'}], 'role': 'model'})]\n",
              ")"
            ]
          },
          "metadata": {},
          "execution_count": 44
        }
      ]
    },
    {
      "cell_type": "code",
      "source": [
        "chat.history"
      ],
      "metadata": {
        "colab": {
          "base_uri": "https://localhost:8080/"
        },
        "id": "fiC2ct6lsNRi",
        "outputId": "26c26351-13d8-4915-dbe5-81e6543e30c9"
      },
      "execution_count": 45,
      "outputs": [
        {
          "output_type": "execute_result",
          "data": {
            "text/plain": [
              "[parts {\n",
              "   text: \"Boa tarde!\"\n",
              " }\n",
              " role: \"user\",\n",
              " parts {\n",
              "   text: \"Boa tarde! Como posso ajud\\303\\241-lo hoje?\"\n",
              " }\n",
              " role: \"model\",\n",
              " parts {\n",
              "   text: \"Que horas s\\303\\243o?\"\n",
              " }\n",
              " role: \"user\",\n",
              " parts {\n",
              "   text: \"**[Hora atual]**\"\n",
              " }\n",
              " role: \"model\",\n",
              " parts {\n",
              "   text: \"Quem veio primeiro o ovo ou a galinha?\"\n",
              " }\n",
              " role: \"user\",\n",
              " parts {\n",
              "   text: \"A quest\\303\\243o de saber se veio primeiro o ovo ou a galinha \\303\\251 um paradoxo cl\\303\\241ssico. N\\303\\243o h\\303\\241 uma resposta cient\\303\\255fica definitiva, mas existem algumas teorias:\\n\\n* **Teoria do Ovo:** Esta teoria sugere que o primeiro ovo foi posto por uma criatura semelhante a uma galinha que n\\303\\243o era uma galinha verdadeira. Com o tempo, atrav\\303\\251s da evolu\\303\\247\\303\\243o, esses ovos deram origem a galinhas.\\n* **Teoria da Galinha:** Esta teoria prop\\303\\265e que a primeira galinha evoluiu de uma ave que n\\303\\243o punha ovos. Com o tempo, essa ave desenvolveu a capacidade de produzir ovos com cascas duras.\\n\\nA maioria dos cientistas acredita que a teoria do ovo \\303\\251 mais prov\\303\\241vel, pois \\303\\251 apoiada por evid\\303\\252ncias f\\303\\263sseis. No entanto, a quest\\303\\243o ainda \\303\\251 objeto de debate.\"\n",
              " }\n",
              " role: \"model\",\n",
              " parts {\n",
              "   text: \"Qual a capital da Finl\\303\\242ndia\"\n",
              " }\n",
              " role: \"user\",\n",
              " parts {\n",
              "   text: \"Helsinque\"\n",
              " }\n",
              " role: \"model\",\n",
              " parts {\n",
              "   text: \"Quanto \\303\\251 20 + 34\"\n",
              " }\n",
              " role: \"user\",\n",
              " parts {\n",
              "   text: \"54\"\n",
              " }\n",
              " role: \"model\",\n",
              " parts {\n",
              "   text: \"Qual o d\\303\\251cimo primeiro n\\303\\272mero primo?\"\n",
              " }\n",
              " role: \"user\",\n",
              " parts {\n",
              "   text: \"29\"\n",
              " }\n",
              " role: \"model\",\n",
              " parts {\n",
              "   text: \"Qual a comida t\\303\\255pica desse pa\\303\\255s?\"\n",
              " }\n",
              " role: \"user\",\n",
              " parts {\n",
              "   text: \"Qual pa\\303\\255s? Voc\\303\\252 precisa especificar o pa\\303\\255s para que eu possa fornecer a comida t\\303\\255pica.\"\n",
              " }\n",
              " role: \"model\",\n",
              " parts {\n",
              "   text: \"Qual a com\\303\\255da t\\303\\255pica da Finl\\303\\242ndia?\"\n",
              " }\n",
              " role: \"user\",\n",
              " parts {\n",
              "   text: \"* **Kalakukko:** Uma torta de peixe feita com salm\\303\\243o ou outro peixe branco, bacon e cebola, assada em uma crosta de centeio.\\n* **Karjalanpaisti:** Um ensopado de carne feito com carne bovina ou su\\303\\255na, cenouras, cebolas e especiarias.\\n* **Makkara:** Uma salsicha finlandesa tradicionalmente feita com carne de porco, vaca ou rena.\\n* **Lihapullat:** Alm\\303\\264ndegas finlandesas geralmente servidas com pur\\303\\252 de batata e molho.\\n* **Lohikeitto:** Uma sopa de salm\\303\\243o cremosa feita com salm\\303\\243o, batatas, cenouras e alho-por\\303\\263.\\n* **Ruisleip\\303\\244:** Um p\\303\\243o de centeio escuro e denso que \\303\\251 um alimento b\\303\\241sico na Finl\\303\\242ndia.\\n* **Mustikkapiirakka:** Uma torta de mirtilo feita com mirtilos frescos ou congelados.\\n* **Korvapuusti:** Um p\\303\\243o doce em forma de orelha recheado com canela e a\\303\\247\\303\\272car.\\n* **Salmiakki:** Um doce salgado e preto com sabor de am\\303\\264nia, popular na Finl\\303\\242ndia.\"\n",
              " }\n",
              " role: \"model\"]"
            ]
          },
          "metadata": {},
          "execution_count": 45
        }
      ]
    },
    {
      "cell_type": "code",
      "source": [
        "# Melhorando a visualização\n",
        "# Código disponível em https://ai.google.dev/tutorials/python_quickstart#import_packages\n",
        "\n",
        "import textwrap\n",
        "from IPython.display import display\n",
        "from IPython.display import Markdown\n",
        "\n",
        "def to_markdown(text):\n",
        "  text = text.replace('•', '  *')\n",
        "  return Markdown(textwrap.indent(text, '> ', predicate=lambda _: True))\n",
        "\n",
        "# Imprimindo o histórico\n",
        "for message in chat.history:\n",
        "  display(to_markdown(f'**{message.role}**: {message.parts[0].text}'))\n",
        "  print('--------------------------------------------')\n"
      ],
      "metadata": {
        "colab": {
          "base_uri": "https://localhost:8080/",
          "height": 1000
        },
        "id": "IZ1rdXaro7uc",
        "outputId": "f98dabe7-8474-47d2-99a2-884cd253a1fe"
      },
      "execution_count": 46,
      "outputs": [
        {
          "output_type": "display_data",
          "data": {
            "text/plain": [
              "<IPython.core.display.Markdown object>"
            ],
            "text/markdown": "> **user**: Boa tarde!"
          },
          "metadata": {}
        },
        {
          "output_type": "stream",
          "name": "stdout",
          "text": [
            "--------------------------------------------\n"
          ]
        },
        {
          "output_type": "display_data",
          "data": {
            "text/plain": [
              "<IPython.core.display.Markdown object>"
            ],
            "text/markdown": "> **model**: Boa tarde! Como posso ajudá-lo hoje?"
          },
          "metadata": {}
        },
        {
          "output_type": "stream",
          "name": "stdout",
          "text": [
            "--------------------------------------------\n"
          ]
        },
        {
          "output_type": "display_data",
          "data": {
            "text/plain": [
              "<IPython.core.display.Markdown object>"
            ],
            "text/markdown": "> **user**: Que horas são?"
          },
          "metadata": {}
        },
        {
          "output_type": "stream",
          "name": "stdout",
          "text": [
            "--------------------------------------------\n"
          ]
        },
        {
          "output_type": "display_data",
          "data": {
            "text/plain": [
              "<IPython.core.display.Markdown object>"
            ],
            "text/markdown": "> **model**: **[Hora atual]**"
          },
          "metadata": {}
        },
        {
          "output_type": "stream",
          "name": "stdout",
          "text": [
            "--------------------------------------------\n"
          ]
        },
        {
          "output_type": "display_data",
          "data": {
            "text/plain": [
              "<IPython.core.display.Markdown object>"
            ],
            "text/markdown": "> **user**: Quem veio primeiro o ovo ou a galinha?"
          },
          "metadata": {}
        },
        {
          "output_type": "stream",
          "name": "stdout",
          "text": [
            "--------------------------------------------\n"
          ]
        },
        {
          "output_type": "display_data",
          "data": {
            "text/plain": [
              "<IPython.core.display.Markdown object>"
            ],
            "text/markdown": "> **model**: A questão de saber se veio primeiro o ovo ou a galinha é um paradoxo clássico. Não há uma resposta científica definitiva, mas existem algumas teorias:\n> \n> * **Teoria do Ovo:** Esta teoria sugere que o primeiro ovo foi posto por uma criatura semelhante a uma galinha que não era uma galinha verdadeira. Com o tempo, através da evolução, esses ovos deram origem a galinhas.\n> * **Teoria da Galinha:** Esta teoria propõe que a primeira galinha evoluiu de uma ave que não punha ovos. Com o tempo, essa ave desenvolveu a capacidade de produzir ovos com cascas duras.\n> \n> A maioria dos cientistas acredita que a teoria do ovo é mais provável, pois é apoiada por evidências fósseis. No entanto, a questão ainda é objeto de debate."
          },
          "metadata": {}
        },
        {
          "output_type": "stream",
          "name": "stdout",
          "text": [
            "--------------------------------------------\n"
          ]
        },
        {
          "output_type": "display_data",
          "data": {
            "text/plain": [
              "<IPython.core.display.Markdown object>"
            ],
            "text/markdown": "> **user**: Qual a capital da Finlândia"
          },
          "metadata": {}
        },
        {
          "output_type": "stream",
          "name": "stdout",
          "text": [
            "--------------------------------------------\n"
          ]
        },
        {
          "output_type": "display_data",
          "data": {
            "text/plain": [
              "<IPython.core.display.Markdown object>"
            ],
            "text/markdown": "> **model**: Helsinque"
          },
          "metadata": {}
        },
        {
          "output_type": "stream",
          "name": "stdout",
          "text": [
            "--------------------------------------------\n"
          ]
        },
        {
          "output_type": "display_data",
          "data": {
            "text/plain": [
              "<IPython.core.display.Markdown object>"
            ],
            "text/markdown": "> **user**: Quanto é 20 + 34"
          },
          "metadata": {}
        },
        {
          "output_type": "stream",
          "name": "stdout",
          "text": [
            "--------------------------------------------\n"
          ]
        },
        {
          "output_type": "display_data",
          "data": {
            "text/plain": [
              "<IPython.core.display.Markdown object>"
            ],
            "text/markdown": "> **model**: 54"
          },
          "metadata": {}
        },
        {
          "output_type": "stream",
          "name": "stdout",
          "text": [
            "--------------------------------------------\n"
          ]
        },
        {
          "output_type": "display_data",
          "data": {
            "text/plain": [
              "<IPython.core.display.Markdown object>"
            ],
            "text/markdown": "> **user**: Qual o décimo primeiro número primo?"
          },
          "metadata": {}
        },
        {
          "output_type": "stream",
          "name": "stdout",
          "text": [
            "--------------------------------------------\n"
          ]
        },
        {
          "output_type": "display_data",
          "data": {
            "text/plain": [
              "<IPython.core.display.Markdown object>"
            ],
            "text/markdown": "> **model**: 29"
          },
          "metadata": {}
        },
        {
          "output_type": "stream",
          "name": "stdout",
          "text": [
            "--------------------------------------------\n"
          ]
        },
        {
          "output_type": "display_data",
          "data": {
            "text/plain": [
              "<IPython.core.display.Markdown object>"
            ],
            "text/markdown": "> **user**: Qual a comida típica desse país?"
          },
          "metadata": {}
        },
        {
          "output_type": "stream",
          "name": "stdout",
          "text": [
            "--------------------------------------------\n"
          ]
        },
        {
          "output_type": "display_data",
          "data": {
            "text/plain": [
              "<IPython.core.display.Markdown object>"
            ],
            "text/markdown": "> **model**: Qual país? Você precisa especificar o país para que eu possa fornecer a comida típica."
          },
          "metadata": {}
        },
        {
          "output_type": "stream",
          "name": "stdout",
          "text": [
            "--------------------------------------------\n"
          ]
        },
        {
          "output_type": "display_data",
          "data": {
            "text/plain": [
              "<IPython.core.display.Markdown object>"
            ],
            "text/markdown": "> **user**: Qual a comída típica da Finlândia?"
          },
          "metadata": {}
        },
        {
          "output_type": "stream",
          "name": "stdout",
          "text": [
            "--------------------------------------------\n"
          ]
        },
        {
          "output_type": "display_data",
          "data": {
            "text/plain": [
              "<IPython.core.display.Markdown object>"
            ],
            "text/markdown": "> **model**: * **Kalakukko:** Uma torta de peixe feita com salmão ou outro peixe branco, bacon e cebola, assada em uma crosta de centeio.\n> * **Karjalanpaisti:** Um ensopado de carne feito com carne bovina ou suína, cenouras, cebolas e especiarias.\n> * **Makkara:** Uma salsicha finlandesa tradicionalmente feita com carne de porco, vaca ou rena.\n> * **Lihapullat:** Almôndegas finlandesas geralmente servidas com purê de batata e molho.\n> * **Lohikeitto:** Uma sopa de salmão cremosa feita com salmão, batatas, cenouras e alho-poró.\n> * **Ruisleipä:** Um pão de centeio escuro e denso que é um alimento básico na Finlândia.\n> * **Mustikkapiirakka:** Uma torta de mirtilo feita com mirtilos frescos ou congelados.\n> * **Korvapuusti:** Um pão doce em forma de orelha recheado com canela e açúcar.\n> * **Salmiakki:** Um doce salgado e preto com sabor de amônia, popular na Finlândia."
          },
          "metadata": {}
        },
        {
          "output_type": "stream",
          "name": "stdout",
          "text": [
            "--------------------------------------------\n"
          ]
        }
      ]
    }
  ]
}