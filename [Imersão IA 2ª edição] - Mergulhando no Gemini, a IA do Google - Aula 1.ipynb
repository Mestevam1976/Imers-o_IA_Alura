{
 "cells": [
  {
   "cell_type": "markdown",
   "id": "97629a10",
   "metadata": {},
   "source": [
    "<h1><font color=\"red\">[Imersão IA 2ª edição] - Mergulhando no Gemini, a IA do Google - Aula 1</font></h1>"
   ]
  },
  {
   "cell_type": "markdown",
   "id": "15f1fc54",
   "metadata": {},
   "source": [
    "<h2><font color=\"Blue\">Márcio Estevam da Silva - Analista de Business Intelligence</font></h2>"
   ]
  },
  {
   "cell_type": "markdown",
   "id": "00451830",
   "metadata": {},
   "source": [
    "<hr>"
   ]
  },
  {
   "cell_type": "markdown",
   "id": "8a9aac79",
   "metadata": {},
   "source": [
    "### Bibliotecas Importadas e configurações Pandas"
   ]
  },
  {
   "cell_type": "markdown",
   "id": "cdfde003",
   "metadata": {},
   "source": [
    "<div class=\"alert alert-danger\">\n",
    "\n",
    "**Nota**\n",
    "\n",
    "Caso não esteja instalada a biblioteca Pandas proceder com o comando **pip install pandas**\n",
    "\n",
    "</div>"
   ]
  },
  {
   "cell_type": "code",
   "execution_count": 1,
   "id": "f3029bca",
   "metadata": {},
   "outputs": [],
   "source": [
    "import pandas as pd\n",
    "\n",
    "pd.set_option('display.max_columns', 100) # Para visualizar todas as colunas do DataFrame\n",
    "pd.set_option('display.max_rows', 500) # Para visualizar todas as linhas do DataFrame"
   ]
  },
  {
   "cell_type": "markdown",
   "id": "9a3fd6d3",
   "metadata": {},
   "source": [
    "<hr>"
   ]
  },
  {
   "cell_type": "markdown",
   "id": "3d159da9",
   "metadata": {},
   "source": [
    "<h2>Desafios da Aula 1</h2>"
   ]
  },
  {
   "cell_type": "markdown",
   "id": "365774be",
   "metadata": {},
   "source": [
    "<h2> Primeiro Desafio: Analisar o histórico de navegação no Google Chrome</h2>"
   ]
  },
  {
   "cell_type": "markdown",
   "id": "aef8de06",
   "metadata": {},
   "source": [
    "<div class=\"alert alert-danger\">\n",
    "\n",
    "**Nota**\n",
    "\n",
    "Caso não esteja instalada a extensão Quick Chrome History Export proceder com a instalação clicando em Extensões no canto superior direito do navegador Google Chrome\n",
    "\n",
    "</div>"
   ]
  },
  {
   "cell_type": "markdown",
   "id": "154b0e3e",
   "metadata": {},
   "source": [
    "Coletar o histórico de navegação no Google Chrome através da extensão Quick Chrome History Export (imagem abaixo) e salvar como csv."
   ]
  },
  {
   "cell_type": "markdown",
   "id": "d3eaf67d",
   "metadata": {},
   "source": [
    "![Quick Chrome History Export](https://lh3.googleusercontent.com/UaY6Q1z7ff6-qWS7CdFkvpux702w0D7qnWtSj_2-f2wPtu3koEsHl7dgjDlmryhnhbUUuEkwQUvu7HMHSBcReFro7g=s1280-w500-h300)"
   ]
  },
  {
   "cell_type": "markdown",
   "id": "0a72cfde",
   "metadata": {},
   "source": [
    "Importar o arquivo .csv e transformá-lo em um DataFrame Pandas:"
   ]
  },
  {
   "cell_type": "code",
   "execution_count": 2,
   "id": "8c7a519c",
   "metadata": {},
   "outputs": [],
   "source": [
    "historico = pd.read_csv('csvs/history.csv', sep=',')"
   ]
  },
  {
   "cell_type": "markdown",
   "id": "bb11c3aa",
   "metadata": {},
   "source": [
    "Amostra do DataFrame criado:"
   ]
  },
  {
   "cell_type": "code",
   "execution_count": 3,
   "id": "f06ec114",
   "metadata": {
    "scrolled": false
   },
   "outputs": [
    {
     "data": {
      "text/html": [
       "<div>\n",
       "<style scoped>\n",
       "    .dataframe tbody tr th:only-of-type {\n",
       "        vertical-align: middle;\n",
       "    }\n",
       "\n",
       "    .dataframe tbody tr th {\n",
       "        vertical-align: top;\n",
       "    }\n",
       "\n",
       "    .dataframe thead th {\n",
       "        text-align: right;\n",
       "    }\n",
       "</style>\n",
       "<table border=\"1\" class=\"dataframe\">\n",
       "  <thead>\n",
       "    <tr style=\"text-align: right;\">\n",
       "      <th></th>\n",
       "      <th>order</th>\n",
       "      <th>id</th>\n",
       "      <th>date</th>\n",
       "      <th>time</th>\n",
       "      <th>title</th>\n",
       "      <th>url</th>\n",
       "      <th>visitCount</th>\n",
       "      <th>typedCount</th>\n",
       "      <th>transition</th>\n",
       "    </tr>\n",
       "  </thead>\n",
       "  <tbody>\n",
       "    <tr>\n",
       "      <th>210</th>\n",
       "      <td>210</td>\n",
       "      <td>16580</td>\n",
       "      <td>5/6/2024</td>\n",
       "      <td>0:26:55</td>\n",
       "      <td>Uso inicial - testes | Google AI Studio</td>\n",
       "      <td>https://aistudio.google.com/app/prompts/1MJvlH...</td>\n",
       "      <td>2</td>\n",
       "      <td>0</td>\n",
       "      <td>link</td>\n",
       "    </tr>\n",
       "    <tr>\n",
       "      <th>66</th>\n",
       "      <td>66</td>\n",
       "      <td>16705</td>\n",
       "      <td>5/6/2024</td>\n",
       "      <td>11:32:49</td>\n",
       "      <td>Search | Kaggle</td>\n",
       "      <td>https://www.kaggle.com/search?q=movies</td>\n",
       "      <td>1</td>\n",
       "      <td>0</td>\n",
       "      <td>link</td>\n",
       "    </tr>\n",
       "    <tr>\n",
       "      <th>10</th>\n",
       "      <td>10</td>\n",
       "      <td>16730</td>\n",
       "      <td>5/6/2024</td>\n",
       "      <td>16:11:59</td>\n",
       "      <td>Imagens - Google Drive</td>\n",
       "      <td>https://drive.google.com/drive/folders/1w8lfur...</td>\n",
       "      <td>1</td>\n",
       "      <td>0</td>\n",
       "      <td>link</td>\n",
       "    </tr>\n",
       "    <tr>\n",
       "      <th>185</th>\n",
       "      <td>185</td>\n",
       "      <td>16623</td>\n",
       "      <td>5/6/2024</td>\n",
       "      <td>9:26:18</td>\n",
       "      <td>Como baixar vídeos do YouTube sem programas e ...</td>\n",
       "      <td>https://www.techtudo.com.br/dicas-e-tutoriais/...</td>\n",
       "      <td>5</td>\n",
       "      <td>0</td>\n",
       "      <td>link</td>\n",
       "    </tr>\n",
       "    <tr>\n",
       "      <th>126</th>\n",
       "      <td>126</td>\n",
       "      <td>16666</td>\n",
       "      <td>5/6/2024</td>\n",
       "      <td>10:29:41</td>\n",
       "      <td>google ai studio - Pesquisa Google</td>\n",
       "      <td>https://www.google.com/search?q=google+ai+stud...</td>\n",
       "      <td>5</td>\n",
       "      <td>0</td>\n",
       "      <td>link</td>\n",
       "    </tr>\n",
       "    <tr>\n",
       "      <th>102</th>\n",
       "      <td>102</td>\n",
       "      <td>16691</td>\n",
       "      <td>5/6/2024</td>\n",
       "      <td>10:54:08</td>\n",
       "      <td>Crie uma tabela separando em três colunas: paí...</td>\n",
       "      <td>https://docs.google.com/spreadsheets/d/1t31OCr...</td>\n",
       "      <td>2</td>\n",
       "      <td>0</td>\n",
       "      <td>link</td>\n",
       "    </tr>\n",
       "    <tr>\n",
       "      <th>141</th>\n",
       "      <td>141</td>\n",
       "      <td>16661</td>\n",
       "      <td>5/6/2024</td>\n",
       "      <td>10:01:15</td>\n",
       "      <td>Testes Psicométricos</td>\n",
       "      <td>https://assessments.gupy.io/behavioral/0d62a19...</td>\n",
       "      <td>1</td>\n",
       "      <td>0</td>\n",
       "      <td>link</td>\n",
       "    </tr>\n",
       "    <tr>\n",
       "      <th>124</th>\n",
       "      <td>124</td>\n",
       "      <td>16670</td>\n",
       "      <td>5/6/2024</td>\n",
       "      <td>10:29:45</td>\n",
       "      <td>Produtos e serviços de IA e machine learning |...</td>\n",
       "      <td>https://cloud.google.com/products/ai?utm_sourc...</td>\n",
       "      <td>2</td>\n",
       "      <td>0</td>\n",
       "      <td>link</td>\n",
       "    </tr>\n",
       "    <tr>\n",
       "      <th>202</th>\n",
       "      <td>202</td>\n",
       "      <td>16593</td>\n",
       "      <td>5/6/2024</td>\n",
       "      <td>8:07:09</td>\n",
       "      <td>Imersões | Alura - Cursos online de tecnologia</td>\n",
       "      <td>https://cursos.alura.com.br/imersoes/aulas/aul...</td>\n",
       "      <td>3</td>\n",
       "      <td>0</td>\n",
       "      <td>link</td>\n",
       "    </tr>\n",
       "    <tr>\n",
       "      <th>113</th>\n",
       "      <td>113</td>\n",
       "      <td>16679</td>\n",
       "      <td>5/6/2024</td>\n",
       "      <td>10:30:24</td>\n",
       "      <td>Guia de início rápido do Google AI Studio  |  ...</td>\n",
       "      <td>https://ai.google.dev/gemini-api/docs/ai-studi...</td>\n",
       "      <td>2</td>\n",
       "      <td>0</td>\n",
       "      <td>link</td>\n",
       "    </tr>\n",
       "  </tbody>\n",
       "</table>\n",
       "</div>"
      ],
      "text/plain": [
       "     order     id      date      time  \\\n",
       "210    210  16580  5/6/2024   0:26:55   \n",
       "66      66  16705  5/6/2024  11:32:49   \n",
       "10      10  16730  5/6/2024  16:11:59   \n",
       "185    185  16623  5/6/2024   9:26:18   \n",
       "126    126  16666  5/6/2024  10:29:41   \n",
       "102    102  16691  5/6/2024  10:54:08   \n",
       "141    141  16661  5/6/2024  10:01:15   \n",
       "124    124  16670  5/6/2024  10:29:45   \n",
       "202    202  16593  5/6/2024   8:07:09   \n",
       "113    113  16679  5/6/2024  10:30:24   \n",
       "\n",
       "                                                 title  \\\n",
       "210            Uso inicial - testes | Google AI Studio   \n",
       "66                                     Search | Kaggle   \n",
       "10                              Imagens - Google Drive   \n",
       "185  Como baixar vídeos do YouTube sem programas e ...   \n",
       "126                 google ai studio - Pesquisa Google   \n",
       "102  Crie uma tabela separando em três colunas: paí...   \n",
       "141                               Testes Psicométricos   \n",
       "124  Produtos e serviços de IA e machine learning |...   \n",
       "202     Imersões | Alura - Cursos online de tecnologia   \n",
       "113  Guia de início rápido do Google AI Studio  |  ...   \n",
       "\n",
       "                                                   url  visitCount  \\\n",
       "210  https://aistudio.google.com/app/prompts/1MJvlH...           2   \n",
       "66              https://www.kaggle.com/search?q=movies           1   \n",
       "10   https://drive.google.com/drive/folders/1w8lfur...           1   \n",
       "185  https://www.techtudo.com.br/dicas-e-tutoriais/...           5   \n",
       "126  https://www.google.com/search?q=google+ai+stud...           5   \n",
       "102  https://docs.google.com/spreadsheets/d/1t31OCr...           2   \n",
       "141  https://assessments.gupy.io/behavioral/0d62a19...           1   \n",
       "124  https://cloud.google.com/products/ai?utm_sourc...           2   \n",
       "202  https://cursos.alura.com.br/imersoes/aulas/aul...           3   \n",
       "113  https://ai.google.dev/gemini-api/docs/ai-studi...           2   \n",
       "\n",
       "     typedCount transition  \n",
       "210           0       link  \n",
       "66            0       link  \n",
       "10            0       link  \n",
       "185           0       link  \n",
       "126           0       link  \n",
       "102           0       link  \n",
       "141           0       link  \n",
       "124           0       link  \n",
       "202           0       link  \n",
       "113           0       link  "
      ]
     },
     "execution_count": 3,
     "metadata": {},
     "output_type": "execute_result"
    }
   ],
   "source": [
    "historico.sample(10)"
   ]
  },
  {
   "cell_type": "markdown",
   "id": "a3dca4fe",
   "metadata": {},
   "source": [
    "<hr>"
   ]
  },
  {
   "cell_type": "markdown",
   "id": "fb057620",
   "metadata": {},
   "source": [
    "<h2>Análise do meu histórico de navegação no Google Chrome</h2>"
   ]
  },
  {
   "cell_type": "markdown",
   "id": "9e496e2d",
   "metadata": {},
   "source": [
    "Através da plataforma Google AI Studio (link:https://aistudio.google.com), submeti meu histórico de navegação para análise"
   ]
  },
  {
   "cell_type": "markdown",
   "id": "27376f52",
   "metadata": {},
   "source": [
    "![Google AI Studio](Imgs/Imagem_colada.jpg)"
   ]
  },
  {
   "cell_type": "markdown",
   "id": "278f58ab",
   "metadata": {},
   "source": [
    "<hr>"
   ]
  },
  {
   "cell_type": "markdown",
   "id": "5da1be4f",
   "metadata": {},
   "source": [
    "<h2>Análise do Histórico de Navegação</h2>\n",
    "\n",
    "<p>O histórico de navegação fornecido mostra atividade em diversas áreas, com foco em:</p><br>\n",
    "\n",
    "<li><b>Programação e Ciência de Dados: </b>Há muitas pesquisas e acesso a documentação relacionados a Python, Pandas, Jupyter Notebook e Kaggle, indicando interesse ou trabalho na área.</li>\n",
    "<li><b>IA e Google AI Studio:</b> Diversas visitas ao Google AI Studio e pesquisas sobre o Google Gemini demonstram um interesse específico em ferramentas de IA e o novo modelo de linguagem do Google.</li>\n",
    "<li><b>Cursos online:</b> Acesso à plataforma Alura e a imersões sobre IA reforçam o interesse em aprendizado e desenvolvimento na área.</li>\n",
    "<li><b>Vagas de emprego:</b> Navegação na plataforma Gupy e candidatura a uma vaga de Analista de Dados PL indicam busca por oportunidades profissionais.</li>\n",
    "<li><b>Outros:</b> Pesquisas sobre download de vídeos do YouTube e acesso a notícias e artigos diversos demonstram atividades variadas.</li><br>\n",
    "<h2>Pontos de Destaque:</h2><br>\n",
    "<li><b>Forte interesse em IA e Ciência de Dados:</b> O histórico demonstra um claro interesse em IA, com foco no Google Gemini e ferramentas como o Google AI Studio.</li>\n",
    "<li><b>Aprendizado ativo:</b> A participação em cursos da Alura e pesquisas por documentação demonstram um processo ativo de aprendizado e desenvolvimento de habilidades.</li>\n",
    "<li><b>Busca por oportunidades profissionais:</b> A candidatura a uma vaga de Analista de Dados PL indica a busca por colocação no mercado de trabalho.</li><br>\n",
    "<h2>Possíveis Interpretações:</h2><br>\n",
    "<li><b>Profissional da área de dados buscando aprimoramento:</b> O usuário pode ser um profissional de ciência de dados ou áreas relacionadas buscando se atualizar e adquirir novas habilidades em IA, com o objetivo de se recolocar no mercado ou se desenvolver na carreira atual.</li>\n",
    "<li><b>Estudante ou entusiasta de IA:</b> O usuário pode ser um estudante ou entusiasta de IA explorando ferramentas e recursos disponíveis, como o Google AI Studio e o Gemini.</li>\n",
    "<li><b>Profissional em transição de carreira:</b> O usuário pode estar em processo de transição de carreira para a área de dados, buscando aprender as habilidades necessárias e encontrar oportunidades de emprego.</li><br>\n",
    "<h2>Observações:</h2><br>\n",
    "<li>A análise se baseia apenas no histórico fornecido e pode não ser totalmente precisa sem contexto adicional.</li>\n",
    "<li>A data do histórico é de maio de 2024, portanto, é importante considerar que o contexto e os interesses do usuário podem ter mudado desde então.</li>\n"
   ]
  },
  {
   "cell_type": "markdown",
   "id": "d79a2c98",
   "metadata": {},
   "source": [
    "<hr>"
   ]
  },
  {
   "cell_type": "markdown",
   "id": "693c7cc3",
   "metadata": {},
   "source": [
    "<h2>Segundo Desafio: Utilizar o Gemini em alguma tarefa em sua área de trabalho</h2>"
   ]
  },
  {
   "cell_type": "markdown",
   "id": "24417f5c",
   "metadata": {},
   "source": [
    "Solicitei a criação de um script SQL (MySQL) para criação de uma tabela de clientes que faça o versionamento dos dados em caso de atualização, com a técnica de SCD tipo 2."
   ]
  },
  {
   "cell_type": "markdown",
   "id": "895e58ee",
   "metadata": {},
   "source": [
    "Abaixo o prompt do Google AI Studio:"
   ]
  },
  {
   "cell_type": "markdown",
   "id": "bcd3f617",
   "metadata": {},
   "source": [
    "![Google AI Studio](Imgs/Google_AI_Studio.png)"
   ]
  },
  {
   "cell_type": "markdown",
   "id": "5507b298",
   "metadata": {},
   "source": [
    "Abaixo o script colado no Editor Sublime Text para melhor visualização, inicialmente o script de criação da tabela clientes e o insert de alguns clientes para povoar a mesma."
   ]
  },
  {
   "cell_type": "markdown",
   "id": "9825608f",
   "metadata": {},
   "source": [
    "![Criando tabela e inserindo dados:](Imgs/Create_table.png)"
   ]
  },
  {
   "cell_type": "markdown",
   "id": "90464ed7",
   "metadata": {},
   "source": [
    "Abaixo o script para criação de uma Stored Procedure, que é uma subrotina que fica armazenada no banco de dados. Uma PROCEDURE tem um nome, uma lista de parâmetros e declarações de comandos SQL"
   ]
  },
  {
   "cell_type": "markdown",
   "id": "978c1c6c",
   "metadata": {},
   "source": [
    "![Criando uma Stored Procedure:](Imgs/Stored_procedure.png)"
   ]
  },
  {
   "cell_type": "markdown",
   "id": "9118ba28",
   "metadata": {},
   "source": [
    "E por fim, a chamada da Stored Procedure \"atualizar_cliente\" para atualização dos dados"
   ]
  },
  {
   "cell_type": "markdown",
   "id": "8bcf0b7a",
   "metadata": {},
   "source": [
    "![Atualizando um registro de cliente](Imgs/Update_cliente.png)"
   ]
  },
  {
   "cell_type": "code",
   "execution_count": 4,
   "id": "87e30d7a",
   "metadata": {},
   "outputs": [
    {
     "data": {
      "text/plain": [
       "'/media/marcio-estevam/0064E21564E20D6A/Cursos Alura/Imersão_IA_Alura'"
      ]
     },
     "execution_count": 4,
     "metadata": {},
     "output_type": "execute_result"
    }
   ],
   "source": [
    "pwd"
   ]
  }
 ],
 "metadata": {
  "kernelspec": {
   "display_name": "Python 3 (ipykernel)",
   "language": "python",
   "name": "python3"
  },
  "language_info": {
   "codemirror_mode": {
    "name": "ipython",
    "version": 3
   },
   "file_extension": ".py",
   "mimetype": "text/x-python",
   "name": "python",
   "nbconvert_exporter": "python",
   "pygments_lexer": "ipython3",
   "version": "3.10.13"
  }
 },
 "nbformat": 4,
 "nbformat_minor": 5
}
