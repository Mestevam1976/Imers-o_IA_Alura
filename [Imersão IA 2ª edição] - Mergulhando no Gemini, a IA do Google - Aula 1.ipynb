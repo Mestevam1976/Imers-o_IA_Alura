{
 "cells": [
  {
   "cell_type": "markdown",
   "id": "97629a10",
   "metadata": {},
   "source": [
    "<h1>[Imersão IA 2ª edição] - Mergulhando no Gemini, a IA do Google - Aula 1</h1>"
   ]
  },
  {
   "cell_type": "markdown",
   "id": "8a9aac79",
   "metadata": {},
   "source": [
    "## Bibliotecas Importadas e configurações Pandas"
   ]
  },
  {
   "cell_type": "code",
   "execution_count": 1,
   "id": "f3029bca",
   "metadata": {},
   "outputs": [],
   "source": [
    "import pandas as pd\n",
    "\n",
    "pd.set_option('display.max_columns', 100) # Para visualizar todas as colunas do DataFrame\n",
    "pd.set_option('display.max_rows', 500) # Para visualizar todas as linhas do DataFrame"
   ]
  },
  {
   "cell_type": "markdown",
   "id": "3d159da9",
   "metadata": {},
   "source": [
    "<h2>Desafios da Aula 1</h2>"
   ]
  },
  {
   "cell_type": "markdown",
   "id": "365774be",
   "metadata": {},
   "source": [
    "<h2> Primeiro Desafio: Analisar o histórico de navegação no Google Chrome</h2>"
   ]
  },
  {
   "cell_type": "markdown",
   "id": "154b0e3e",
   "metadata": {},
   "source": [
    "Coletar o histórico de navegação no Google Chrome através da extensão Quick Chrome History Export (imagem abaixo) e salvar como csv."
   ]
  },
  {
   "cell_type": "markdown",
   "id": "d3eaf67d",
   "metadata": {},
   "source": [
    "![Quick Chrome History Export](https://lh3.googleusercontent.com/UaY6Q1z7ff6-qWS7CdFkvpux702w0D7qnWtSj_2-f2wPtu3koEsHl7dgjDlmryhnhbUUuEkwQUvu7HMHSBcReFro7g=s1280-w500-h300)"
   ]
  },
  {
   "cell_type": "markdown",
   "id": "0a72cfde",
   "metadata": {},
   "source": [
    "Importar o arquivo .csv e transformá-lo em um DataFrame Pandas:"
   ]
  },
  {
   "cell_type": "code",
   "execution_count": 2,
   "id": "8c7a519c",
   "metadata": {},
   "outputs": [],
   "source": [
    "historico = pd.read_csv('csvs/history.csv', sep=',')"
   ]
  },
  {
   "cell_type": "markdown",
   "id": "bb11c3aa",
   "metadata": {},
   "source": [
    "Amostra do DataFrame criado:"
   ]
  },
  {
   "cell_type": "code",
   "execution_count": 3,
   "id": "f06ec114",
   "metadata": {
    "scrolled": false
   },
   "outputs": [
    {
     "data": {
      "text/html": [
       "<div>\n",
       "<style scoped>\n",
       "    .dataframe tbody tr th:only-of-type {\n",
       "        vertical-align: middle;\n",
       "    }\n",
       "\n",
       "    .dataframe tbody tr th {\n",
       "        vertical-align: top;\n",
       "    }\n",
       "\n",
       "    .dataframe thead th {\n",
       "        text-align: right;\n",
       "    }\n",
       "</style>\n",
       "<table border=\"1\" class=\"dataframe\">\n",
       "  <thead>\n",
       "    <tr style=\"text-align: right;\">\n",
       "      <th></th>\n",
       "      <th>order</th>\n",
       "      <th>id</th>\n",
       "      <th>date</th>\n",
       "      <th>time</th>\n",
       "      <th>title</th>\n",
       "      <th>url</th>\n",
       "      <th>visitCount</th>\n",
       "      <th>typedCount</th>\n",
       "      <th>transition</th>\n",
       "    </tr>\n",
       "  </thead>\n",
       "  <tbody>\n",
       "    <tr>\n",
       "      <th>203</th>\n",
       "      <td>203</td>\n",
       "      <td>16594</td>\n",
       "      <td>5/6/2024</td>\n",
       "      <td>8:06:53</td>\n",
       "      <td>Login | Alura - Cursos online de tecnologia</td>\n",
       "      <td>https://cursos.alura.com.br/imersao?utm_campai...</td>\n",
       "      <td>2</td>\n",
       "      <td>0</td>\n",
       "      <td>form_submit</td>\n",
       "    </tr>\n",
       "    <tr>\n",
       "      <th>96</th>\n",
       "      <td>96</td>\n",
       "      <td>16632</td>\n",
       "      <td>5/6/2024</td>\n",
       "      <td>11:03:19</td>\n",
       "      <td>Untitled - Jupyter Notebook</td>\n",
       "      <td>http://localhost:8888/notebooks/Untitled.ipynb...</td>\n",
       "      <td>2</td>\n",
       "      <td>0</td>\n",
       "      <td>link</td>\n",
       "    </tr>\n",
       "    <tr>\n",
       "      <th>31</th>\n",
       "      <td>31</td>\n",
       "      <td>16713</td>\n",
       "      <td>5/6/2024</td>\n",
       "      <td>11:40:34</td>\n",
       "      <td>No module named 'gemini' - Pesquisa Google</td>\n",
       "      <td>https://www.google.com/search?q=No+module+name...</td>\n",
       "      <td>3</td>\n",
       "      <td>0</td>\n",
       "      <td>generated</td>\n",
       "    </tr>\n",
       "    <tr>\n",
       "      <th>0</th>\n",
       "      <td>0</td>\n",
       "      <td>16641</td>\n",
       "      <td>5/6/2024</td>\n",
       "      <td>16:14:30</td>\n",
       "      <td>Quick Chrome History Export</td>\n",
       "      <td>https://chromewebstore.google.com/detail/quick...</td>\n",
       "      <td>4</td>\n",
       "      <td>0</td>\n",
       "      <td>link</td>\n",
       "    </tr>\n",
       "    <tr>\n",
       "      <th>169</th>\n",
       "      <td>169</td>\n",
       "      <td>16635</td>\n",
       "      <td>5/6/2024</td>\n",
       "      <td>9:34:11</td>\n",
       "      <td>‎Gemini: conversas que vão potencializar suas ...</td>\n",
       "      <td>https://gemini.google.com/</td>\n",
       "      <td>1</td>\n",
       "      <td>0</td>\n",
       "      <td>link</td>\n",
       "    </tr>\n",
       "    <tr>\n",
       "      <th>23</th>\n",
       "      <td>23</td>\n",
       "      <td>16717</td>\n",
       "      <td>5/6/2024</td>\n",
       "      <td>12:22:52</td>\n",
       "      <td>exibir todas colunas pandas - Pesquisa Google</td>\n",
       "      <td>https://www.google.com/search?q=exibir+todas+c...</td>\n",
       "      <td>4</td>\n",
       "      <td>0</td>\n",
       "      <td>link</td>\n",
       "    </tr>\n",
       "    <tr>\n",
       "      <th>218</th>\n",
       "      <td>218</td>\n",
       "      <td>16606</td>\n",
       "      <td>5/5/2024</td>\n",
       "      <td>21:31:26</td>\n",
       "      <td>perturbação do sossego - Pesquisa Google</td>\n",
       "      <td>https://www.google.com/search?q=perturba%C3%A7...</td>\n",
       "      <td>3</td>\n",
       "      <td>0</td>\n",
       "      <td>generated</td>\n",
       "    </tr>\n",
       "    <tr>\n",
       "      <th>196</th>\n",
       "      <td>196</td>\n",
       "      <td>16616</td>\n",
       "      <td>5/6/2024</td>\n",
       "      <td>9:24:47</td>\n",
       "      <td>baixar video youtube - Pesquisa Google</td>\n",
       "      <td>https://www.google.com/search?q=baixar+video+y...</td>\n",
       "      <td>4</td>\n",
       "      <td>0</td>\n",
       "      <td>link</td>\n",
       "    </tr>\n",
       "    <tr>\n",
       "      <th>138</th>\n",
       "      <td>138</td>\n",
       "      <td>16659</td>\n",
       "      <td>5/6/2024</td>\n",
       "      <td>10:01:28</td>\n",
       "      <td>Gupy</td>\n",
       "      <td>https://farmaciasapp.gupy.io/candidates/applic...</td>\n",
       "      <td>2</td>\n",
       "      <td>0</td>\n",
       "      <td>link</td>\n",
       "    </tr>\n",
       "    <tr>\n",
       "      <th>92</th>\n",
       "      <td>92</td>\n",
       "      <td>16695</td>\n",
       "      <td>5/6/2024</td>\n",
       "      <td>11:05:42</td>\n",
       "      <td>pandas.unique — pandas 2.2.2 documentation</td>\n",
       "      <td>https://pandas.pydata.org/docs/reference/api/p...</td>\n",
       "      <td>2</td>\n",
       "      <td>0</td>\n",
       "      <td>link</td>\n",
       "    </tr>\n",
       "  </tbody>\n",
       "</table>\n",
       "</div>"
      ],
      "text/plain": [
       "     order     id      date      time  \\\n",
       "203    203  16594  5/6/2024   8:06:53   \n",
       "96      96  16632  5/6/2024  11:03:19   \n",
       "31      31  16713  5/6/2024  11:40:34   \n",
       "0        0  16641  5/6/2024  16:14:30   \n",
       "169    169  16635  5/6/2024   9:34:11   \n",
       "23      23  16717  5/6/2024  12:22:52   \n",
       "218    218  16606  5/5/2024  21:31:26   \n",
       "196    196  16616  5/6/2024   9:24:47   \n",
       "138    138  16659  5/6/2024  10:01:28   \n",
       "92      92  16695  5/6/2024  11:05:42   \n",
       "\n",
       "                                                 title  \\\n",
       "203        Login | Alura - Cursos online de tecnologia   \n",
       "96                         Untitled - Jupyter Notebook   \n",
       "31          No module named 'gemini' - Pesquisa Google   \n",
       "0                          Quick Chrome History Export   \n",
       "169  ‎Gemini: conversas que vão potencializar suas ...   \n",
       "23       exibir todas colunas pandas - Pesquisa Google   \n",
       "218           perturbação do sossego - Pesquisa Google   \n",
       "196             baixar video youtube - Pesquisa Google   \n",
       "138                                               Gupy   \n",
       "92          pandas.unique — pandas 2.2.2 documentation   \n",
       "\n",
       "                                                   url  visitCount  \\\n",
       "203  https://cursos.alura.com.br/imersao?utm_campai...           2   \n",
       "96   http://localhost:8888/notebooks/Untitled.ipynb...           2   \n",
       "31   https://www.google.com/search?q=No+module+name...           3   \n",
       "0    https://chromewebstore.google.com/detail/quick...           4   \n",
       "169                         https://gemini.google.com/           1   \n",
       "23   https://www.google.com/search?q=exibir+todas+c...           4   \n",
       "218  https://www.google.com/search?q=perturba%C3%A7...           3   \n",
       "196  https://www.google.com/search?q=baixar+video+y...           4   \n",
       "138  https://farmaciasapp.gupy.io/candidates/applic...           2   \n",
       "92   https://pandas.pydata.org/docs/reference/api/p...           2   \n",
       "\n",
       "     typedCount   transition  \n",
       "203           0  form_submit  \n",
       "96            0         link  \n",
       "31            0    generated  \n",
       "0             0         link  \n",
       "169           0         link  \n",
       "23            0         link  \n",
       "218           0    generated  \n",
       "196           0         link  \n",
       "138           0         link  \n",
       "92            0         link  "
      ]
     },
     "execution_count": 3,
     "metadata": {},
     "output_type": "execute_result"
    }
   ],
   "source": [
    "historico.sample(10)"
   ]
  },
  {
   "cell_type": "markdown",
   "id": "a3dca4fe",
   "metadata": {},
   "source": [
    "<hr>"
   ]
  },
  {
   "cell_type": "markdown",
   "id": "fb057620",
   "metadata": {},
   "source": [
    "<h2>Análise do meu histórico de navegação no Google Chrome</h2>"
   ]
  },
  {
   "cell_type": "markdown",
   "id": "9e496e2d",
   "metadata": {},
   "source": [
    "Através da plataforma Google AI Studio (link:https://aistudio.google.com), submeti meu histórico de navegação para análise"
   ]
  },
  {
   "attachments": {},
   "cell_type": "markdown",
   "id": "27376f52",
   "metadata": {},
   "source": [
    "![Google AI Studio](Imgs/Imagem_colada.jpg)"
   ]
  },
  {
   "cell_type": "markdown",
   "id": "278f58ab",
   "metadata": {},
   "source": [
    "<hr>"
   ]
  },
  {
   "cell_type": "markdown",
   "id": "5da1be4f",
   "metadata": {},
   "source": [
    "<h2>Análise do Histórico de Navegação</h2>\n",
    "\n",
    "<p>O histórico de navegação fornecido mostra atividade em diversas áreas, com foco em:</p><br>\n",
    "\n",
    "<li><b>Programação e Ciência de Dados: </b>Há muitas pesquisas e acesso a documentação relacionados a Python, Pandas, Jupyter Notebook e Kaggle, indicando interesse ou trabalho na área.</li>\n",
    "<li><b>IA e Google AI Studio:</b> Diversas visitas ao Google AI Studio e pesquisas sobre o Google Gemini demonstram um interesse específico em ferramentas de IA e o novo modelo de linguagem do Google.</li>\n",
    "<li><b>Cursos online:</b> Acesso à plataforma Alura e a imersões sobre IA reforçam o interesse em aprendizado e desenvolvimento na área.</li>\n",
    "<li><b>Vagas de emprego:</b> Navegação na plataforma Gupy e candidatura a uma vaga de Analista de Dados PL indicam busca por oportunidades profissionais.</li>\n",
    "<li><b>Outros:</b> Pesquisas sobre download de vídeos do YouTube e acesso a notícias e artigos diversos demonstram atividades variadas.</li><br>\n",
    "<h2>Pontos de Destaque:</h2><br>\n",
    "<li><b>Forte interesse em IA e Ciência de Dados:</b> O histórico demonstra um claro interesse em IA, com foco no Google Gemini e ferramentas como o Google AI Studio.</li>\n",
    "<li><b>Aprendizado ativo:</b> A participação em cursos da Alura e pesquisas por documentação demonstram um processo ativo de aprendizado e desenvolvimento de habilidades.</li>\n",
    "<li><b>Busca por oportunidades profissionais:</b> A candidatura a uma vaga de Analista de Dados PL indica a busca por colocação no mercado de trabalho.</li><br>\n",
    "<h2>Possíveis Interpretações:</h2><br>\n",
    "<li><b>Profissional da área de dados buscando aprimoramento:</b> O usuário pode ser um profissional de ciência de dados ou áreas relacionadas buscando se atualizar e adquirir novas habilidades em IA, com o objetivo de se recolocar no mercado ou se desenvolver na carreira atual.</li>\n",
    "<li><b>Estudante ou entusiasta de IA:</b> O usuário pode ser um estudante ou entusiasta de IA explorando ferramentas e recursos disponíveis, como o Google AI Studio e o Gemini.</li>\n",
    "<li><b>Profissional em transição de carreira:</b> O usuário pode estar em processo de transição de carreira para a área de dados, buscando aprender as habilidades necessárias e encontrar oportunidades de emprego.</li><br>\n",
    "<h2>Observações:</h2><br>\n",
    "<li>A análise se baseia apenas no histórico fornecido e pode não ser totalmente precisa sem contexto adicional.</li>\n",
    "<li>A data do histórico é de maio de 2024, portanto, é importante considerar que o contexto e os interesses do usuário podem ter mudado desde então.</li>\n"
   ]
  },
  {
   "cell_type": "markdown",
   "id": "d79a2c98",
   "metadata": {},
   "source": [
    "<hr>"
   ]
  },
  {
   "cell_type": "markdown",
   "id": "693c7cc3",
   "metadata": {},
   "source": [
    "<h2>Segundo Desafio: Utilizar o Gemini em alguma tarefa em sua área de trabalho</h2>"
   ]
  },
  {
   "cell_type": "markdown",
   "id": "24417f5c",
   "metadata": {},
   "source": [
    "Solicitei a criação de um script SQL (MySQL) para criação de uma tabela de clientes que faça o versionamento dos dados em caso de atualização, com a técnica de SCD tipo 2."
   ]
  },
  {
   "cell_type": "markdown",
   "id": "895e58ee",
   "metadata": {},
   "source": [
    "Abaixo o prompt do Google AI Studio:"
   ]
  },
  {
   "cell_type": "markdown",
   "id": "bcd3f617",
   "metadata": {},
   "source": [
    "![Google AI Studio](Imgs/Google_AI_Studio.png)"
   ]
  },
  {
   "cell_type": "markdown",
   "id": "5507b298",
   "metadata": {},
   "source": [
    "Abaixo o script colado no Editor Sublime Text para melhor visualização, inicialmente o script de criação da tabela clientes e o insert de alguns clientes para povoar a mesma."
   ]
  },
  {
   "cell_type": "markdown",
   "id": "9825608f",
   "metadata": {},
   "source": [
    "![Criando tabela e inserindo dados:](Imgs/Create_table.png)"
   ]
  },
  {
   "cell_type": "markdown",
   "id": "90464ed7",
   "metadata": {},
   "source": [
    "Abaixo o script para criação de uma Stored Procedure, que é uma subrotina que fica armazenada no banco de dados. Uma PROCEDURE tem um nome, uma lista de parâmetros e declarações de comandos SQL"
   ]
  },
  {
   "cell_type": "markdown",
   "id": "978c1c6c",
   "metadata": {},
   "source": [
    "![Criando uma Stored Procedure:](Imgs/Stored_procedure.png)"
   ]
  },
  {
   "cell_type": "markdown",
   "id": "9118ba28",
   "metadata": {},
   "source": [
    "E por fim, a chamada da Stored Procedure \"atualizar_cliente\" para atualização dos dados"
   ]
  },
  {
   "cell_type": "markdown",
   "id": "8bcf0b7a",
   "metadata": {},
   "source": [
    "![Atualizando um registro de cliente](Imgs/Update_cliente.png)"
   ]
  },
  {
   "cell_type": "code",
   "execution_count": null,
   "id": "87e30d7a",
   "metadata": {},
   "outputs": [],
   "source": []
  }
 ],
 "metadata": {
  "kernelspec": {
   "display_name": "Python 3 (ipykernel)",
   "language": "python",
   "name": "python3"
  },
  "language_info": {
   "codemirror_mode": {
    "name": "ipython",
    "version": 3
   },
   "file_extension": ".py",
   "mimetype": "text/x-python",
   "name": "python",
   "nbconvert_exporter": "python",
   "pygments_lexer": "ipython3",
   "version": "3.10.13"
  }
 },
 "nbformat": 4,
 "nbformat_minor": 5
}
